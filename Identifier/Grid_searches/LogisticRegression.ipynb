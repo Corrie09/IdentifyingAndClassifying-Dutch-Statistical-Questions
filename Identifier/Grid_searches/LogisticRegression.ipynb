{
 "cells": [
  {
   "cell_type": "markdown",
   "id": "7410b026-af28-4d8d-8409-1210b2f944d8",
   "metadata": {},
   "source": [
    "**Baseline classifier model. Op basis van TF-IDF Logistische regressie. Moet class imbalance nog aanpakken.**"
   ]
  },
  {
   "cell_type": "code",
   "execution_count": 5,
   "id": "efdbe6d2",
   "metadata": {},
   "outputs": [
    {
     "data": {
      "text/plain": [
       "'\"\\nwat gebeurd is: eerst GridSearchCV gerund en daarna gezien dat deze configuratie met l1 dus de beste is\"\\ndaarna dus de l1 configuratie gebruikt en de beste parameters nog aan het zoeken\"\\n'"
      ]
     },
     "execution_count": 5,
     "metadata": {},
     "output_type": "execute_result"
    }
   ],
   "source": [
    "\"\"\"\"\n",
    "wat gebeurd is: eerst GridSearchCV gerund en daarna gezien dat deze configuratie met l1 dus de beste is\"\n",
    "daarna dus de l1 configuratie gebruikt en de beste parameters nog aan het zoeken\"\n",
    "\"\"\"\n"
   ]
  },
  {
   "cell_type": "code",
   "execution_count": 6,
   "id": "38ea7584-6167-4c51-9619-0dfedff4f485",
   "metadata": {},
   "outputs": [],
   "source": [
    "import pandas as pd\n",
    "import re\n",
    "import matplotlib.pyplot as plt\n",
    "import seaborn as sns\n",
    "from collections import Counter\n",
    "from sklearn.feature_extraction.text import TfidfVectorizer\n",
    "from sklearn.model_selection import train_test_split \n",
    "from sklearn.linear_model import LogisticRegression\n",
    "from sklearn.metrics import classification_report, accuracy_score\n",
    "from sklearn.model_selection import GridSearchCV\n",
    "from sklearn.metrics import accuracy_score, precision_recall_fscore_support\n",
    "import pandas as pd\n",
    "\n",
    "\n",
    "import os"
   ]
  },
  {
   "cell_type": "code",
   "execution_count": 7,
   "id": "8cfc791d-5b32-4ae9-9440-c3b62b0aa114",
   "metadata": {},
   "outputs": [
    {
     "name": "stdout",
     "output_type": "stream",
     "text": [
      "                                            question  label\n",
      "0  Hoeveel personen waren er voor de Vlaamse over...      1\n",
      "1  Hoeveel dagen/uren is die delegatie er geweest...      0\n",
      "2                             Hoe verklaart hij dat?      0\n",
      "3  Hoeveel bedroeg de totale factuur voor de Vlaa...      0\n",
      "4  Verder sprak ik de Catalaanse minister van Fin...      0\n",
      "<class 'pandas.core.frame.DataFrame'>\n",
      "RangeIndex: 2386 entries, 0 to 2385\n",
      "Data columns (total 2 columns):\n",
      " #   Column    Non-Null Count  Dtype \n",
      "---  ------    --------------  ----- \n",
      " 0   question  2386 non-null   object\n",
      " 1   label     2386 non-null   int64 \n",
      "dtypes: int64(1), object(1)\n",
      "memory usage: 37.4+ KB\n",
      "None\n"
     ]
    }
   ],
   "source": [
    "# ✅ 1. Load & Preprocess Data\n",
    "script_dir = os.path.dirname(os.getcwd())# Ga één map omhoog om 'baseline' te verwijderen en ga naar 'Data'\n",
    "project_root = os.path.dirname(script_dir)  # Dit verwijdert 'baseline' van het script_dir\n",
    "data_folder = os.path.join(project_root, \"Data\")\n",
    "\n",
    "# 1. Dataset inladen\n",
    "file_path = os.path.join(data_folder, r\"C:\\Users\\jefva\\Documents\\Master\\Thesis_s2\\Code\\Identifier\\Trainig_data.xlsx\")\n",
    "df = pd.read_excel(file_path)\n",
    "\n",
    "#visualize the data\n",
    "print(df.head())\n",
    "print(df.info())"
   ]
  },
  {
   "cell_type": "code",
   "execution_count": 8,
   "id": "41116ea8-95ac-445f-90cb-9c4d3b0aa9d9",
   "metadata": {},
   "outputs": [
    {
     "name": "stderr",
     "output_type": "stream",
     "text": [
      "[nltk_data] Downloading package stopwords to\n",
      "[nltk_data]     C:\\Users\\jefva\\AppData\\Roaming\\nltk_data...\n",
      "[nltk_data]   Package stopwords is already up-to-date!\n"
     ]
    }
   ],
   "source": [
    "from sklearn.model_selection import train_test_split\n",
    "from sklearn.feature_extraction.text import TfidfVectorizer\n",
    "from sklearn.preprocessing import LabelEncoder\n",
    "import pandas as pd\n",
    "import nltk\n",
    "\n",
    "# === Setup\n",
    "nltk.download(\"stopwords\")\n",
    "from nltk.corpus import stopwords\n",
    "dutch_stopwords = stopwords.words(\"dutch\")\n",
    "\n",
    "\n",
    "\n",
    "# === Split the data with row IDs tracked\n",
    "X_train, X_temp, y_train, y_temp = train_test_split(\n",
    "    df[\"question\"].tolist(),\n",
    "    df[\"label\"].tolist(),\n",
    "    test_size=0.3,\n",
    "    random_state=42,\n",
    "    stratify=df[\"label\"]\n",
    ")\n",
    "\n",
    "X_val, X_test, y_val, y_test = train_test_split(\n",
    "    X_temp, y_temp,\n",
    "    test_size=0.5,\n",
    "    random_state=42,\n",
    "    stratify=y_temp\n",
    ")\n",
    "\n",
    "# === Save test set with only IDs and theme IDs\n",
    "# pd.DataFrame({\n",
    "#     \"clean_text\": X_test,\n",
    "#     \"label\": y_test\n",
    "# }).to_excel(\"Test_data_HeldOut_15percentlogreg.xlsx\", index=False)\n",
    "\n",
    "# === TF-IDF vectorization\n",
    "vectorizer = TfidfVectorizer(\n",
    "    ngram_range=(1, 2),\n",
    "    max_features=10000,\n",
    "    stop_words=dutch_stopwords\n",
    ")\n",
    "\n",
    "X_train_vec = vectorizer.fit_transform(X_train)\n",
    "X_val_vec = vectorizer.transform(X_val)\n",
    "X_test_vec = vectorizer.transform(X_test)\n"
   ]
  },
  {
   "cell_type": "code",
   "execution_count": 10,
   "id": "f7c7b2e3-b6b9-4ebc-85a9-5ed73d65e256",
   "metadata": {},
   "outputs": [
    {
     "name": "stdout",
     "output_type": "stream",
     "text": [
      "GridSearchCV wordt uitgevoerd... 🚀\n",
      "Fitting 5 folds for each of 5 candidates, totalling 25 fits\n",
      "⏱️ Trainingstijd: 0.51 seconden\n",
      "Beste parameters: {'C': 10, 'class_weight': 'balanced', 'penalty': 'l2', 'solver': 'saga'}\n",
      "=== Evaluatie op validatieset ===\n",
      "              precision    recall  f1-score   support\n",
      "\n",
      "           0       0.90      0.89      0.90       282\n",
      "           1       0.62      0.63      0.62        76\n",
      "\n",
      "    accuracy                           0.84       358\n",
      "   macro avg       0.76      0.76      0.76       358\n",
      "weighted avg       0.84      0.84      0.84       358\n",
      "\n",
      "      Metric     Score\n",
      "0   Accuracy  0.837989\n",
      "1  Precision  0.839579\n",
      "2     Recall  0.837989\n",
      "3         F1  0.838753\n",
      "📄 Validatievoorspellingen opgeslagen in 'logreg_val_predictions.xlsx'\n",
      "=== Evaluatie op test set ===\n",
      "              precision    recall  f1-score   support\n",
      "\n",
      "           0       0.92      0.89      0.90       283\n",
      "           1       0.63      0.71      0.67        75\n",
      "\n",
      "    accuracy                           0.85       358\n",
      "   macro avg       0.78      0.80      0.79       358\n",
      "weighted avg       0.86      0.85      0.85       358\n",
      "\n",
      "📄 Testvoorspellingen opgeslagen in 'logreg_test_predictions.xlsx'\n"
     ]
    }
   ],
   "source": [
    "import time\n",
    "from sklearn.model_selection import GridSearchCV\n",
    "from sklearn.linear_model import LogisticRegression\n",
    "from sklearn.metrics import classification_report, accuracy_score, precision_recall_fscore_support\n",
    "import pandas as pd\n",
    "\n",
    "# === 4. Logistic Regression + GridSearchCV\n",
    "param_grid = {\n",
    "    'C': [0.1, 1, 10, 100, 1000],\n",
    "    'penalty': ['l2'],\n",
    "    'solver': ['saga'],\n",
    "    'class_weight': ['balanced']\n",
    "}\n",
    "#these can also be tried, evaded for now due to time \n",
    "#  {\n",
    "#     'C': [0.1, 1, 10, 100],\n",
    "#     'penalty': ['elasticnet'],\n",
    "#     'solver': ['saga'],\n",
    "#     'class_weight': ['balanced'],\n",
    "#     'l1_ratio': [0.3, 0.5, 0.7]  # reduce range for speed\n",
    "# }\n",
    "\n",
    "\n",
    "#     'C': [0.1, 1, 10],\n",
    "#     'penalty': ['l1'],\n",
    "#     'solver': ['saga'],\n",
    "#     'class_weight': ['balanced']\n",
    "# }\n",
    "grid = GridSearchCV(\n",
    "    LogisticRegression(max_iter=1000),\n",
    "    param_grid,\n",
    "    cv=5,\n",
    "    scoring=\"f1_weighted\",\n",
    "    n_jobs=-1,\n",
    "    verbose=2\n",
    ")\n",
    "\n",
    "print(\"GridSearchCV wordt uitgevoerd... 🚀\")\n",
    "start_time = time.time()\n",
    "grid.fit(X_train_vec, y_train)\n",
    "end_time = time.time()\n",
    "print(f\"⏱️ Trainingstijd: {end_time - start_time:.2f} seconden\")\n",
    "\n",
    "# === 5. Predict on validation set\n",
    "best_model = grid.best_estimator_\n",
    "y_pred = best_model.predict(X_val_vec)\n",
    "\n",
    "print(f\"Beste parameters: {grid.best_params_}\")\n",
    "print(\"=== Evaluatie op validatieset ===\")\n",
    "print(classification_report(y_val, y_pred, zero_division=0))\n",
    "\n",
    "# === 6. Summary table\n",
    "accuracy = accuracy_score(y_val, y_pred)\n",
    "precision, recall, f1, _ = precision_recall_fscore_support(y_val, y_pred, average=\"weighted\", zero_division=1)\n",
    "\n",
    "baseline_results = pd.DataFrame({\n",
    "    \"Metric\": [\"Accuracy\", \"Precision\", \"Recall\", \"F1\"],\n",
    "    \"Score\": [accuracy, precision, recall, f1]\n",
    "})\n",
    "print(baseline_results)\n",
    "\n",
    "# === 7. Save validation predictions to Excel (with IDs)\n",
    "df_val_predictions = pd.DataFrame({\n",
    "    \"True Label\": y_val,\n",
    "    \"Predicted Label\": y_pred\n",
    "})\n",
    "df_val_predictions.to_excel(\"logreg_val_predictions.xlsx\", index=False)\n",
    "print(\"📄 Validatievoorspellingen opgeslagen in 'logreg_val_predictions.xlsx'\")\n",
    "\n",
    "# === 8. Predict on test set\n",
    "y_test_pred = best_model.predict(X_test_vec)\n",
    "\n",
    "# === 9. Classification report on test set\n",
    "print(\"=== Evaluatie op test set ===\")\n",
    "print(classification_report(y_test, y_test_pred, zero_division=0))\n",
    "\n",
    "# === 10. Save test predictions to Excel (with IDs)\n",
    "df_test_predictions = pd.DataFrame({\n",
    "    \"clean_text\": X_test,\n",
    "    \"True Label\": y_test,\n",
    "    \"Predicted Label\": y_test_pred\n",
    "})\n",
    "df_test_predictions.to_excel(\"logreg_test_predictions.xlsx\", index=False)\n",
    "print(\"📄 Testvoorspellingen opgeslagen in 'logreg_test_predictions.xlsx'\")\n"
   ]
  },
  {
   "cell_type": "code",
   "execution_count": null,
   "id": "e0aa72e8-f988-4ded-9447-69fc8736b512",
   "metadata": {},
   "outputs": [],
   "source": []
  }
 ],
 "metadata": {
  "kernelspec": {
   "display_name": "Python 3 (ipykernel)",
   "language": "python",
   "name": "python3"
  },
  "language_info": {
   "codemirror_mode": {
    "name": "ipython",
    "version": 3
   },
   "file_extension": ".py",
   "mimetype": "text/x-python",
   "name": "python",
   "nbconvert_exporter": "python",
   "pygments_lexer": "ipython3",
   "version": "3.9.21"
  }
 },
 "nbformat": 4,
 "nbformat_minor": 5
}
