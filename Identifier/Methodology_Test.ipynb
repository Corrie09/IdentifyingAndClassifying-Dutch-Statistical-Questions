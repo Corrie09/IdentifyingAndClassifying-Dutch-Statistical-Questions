{
 "cells": [
  {
   "cell_type": "markdown",
   "id": "ee7e7074-6b7d-4daf-9bdf-a91618842d0e",
   "metadata": {},
   "source": [
    "**Deze code test verschillende woorden/ woordgroepen om statistsche vragen te definiëren.**"
   ]
  },
  {
   "cell_type": "code",
   "execution_count": 67,
   "id": "b8fc4a4c-ce99-403b-be04-4d8b3a67d18c",
   "metadata": {},
   "outputs": [
    {
     "name": "stdout",
     "output_type": "stream",
     "text": [
      "✅ Statistical classifications added and saved successfully to: Updated_Methodology_Test.xlsx\n"
     ]
    }
   ],
   "source": [
    "import pandas as pd\n",
    "import re\n",
    "\n",
    "# Load the Excel file\n",
    "file_path = \"Methodology tests.xlsx\"  # Update if needed\n",
    "xls = pd.ExcelFile(file_path)\n",
    "df = xls.parse('Sheet1')\n",
    "\n",
    "# Convert the first column (questions) to string to avoid errors\n",
    "df.iloc[:, 0] = df.iloc[:, 0].astype(str)\n",
    "\n",
    "# Define statistical patterns for Sets 2, 3, 4, and 5\n",
    "statistical_sets = {\n",
    "    \"Set 1\": [\n",
    "        r\"\\b(hoeveel|aantal|percentage van|percentage|cijfer over|data over|statistieken van)\\b\",\n",
    "        r\"\\b(trend in|evolutie van|groei van|toename van|afname van|ontwikkeling van)\\b\",\n",
    "        r\"\\b(?:verschaffen|geven|tonen|lijst|overzicht van)?\\s*(de|een)?\\s*(gegevens|statistieken|cijfers)\\b\"\n",
    "    ],\n",
    "    \"Set 2\": [\n",
    "        r\"\\b(hoe vaak|hoe groot|gemiddelde van|mediaan van|ratio van|procent van)\\b\",\n",
    "        r\"\\b(stijging van|daling van|verandering in|ontwikkeling in|schommeling van|impact op)\\b\",\n",
    "        r\"\\b(?:verschaffen|geven|tonen|lijst|overzicht van|analyse van)?\\s*(de|een)?\\s*(cijfers|gegevens|statistieken|tellingen)\\b\"\n",
    "    ],\n",
    "    \"Set 3\": [\n",
    "        r\"\\b(bruto|netto|inkomen|uitgaven|begroting|subsidies|belasting|tarief|BBP|inflatie|schulden|werkloosheid|bestedingen|consumptie)\\b\",\n",
    "        r\"\\b(bevolking|leeftijdsgroep|demografie|migratie|emigratie|immigratie|huishoudens|gezinnen|verhouding tussen|dichtheid)\\b\",\n",
    "        r\"\\b(aantal|hoeveelheid|grootte van|gemiddelde|mediaan|percentage|spreiding|percentiel|kwartiel|standaarddeviatie)\\b\"\n",
    "    ],\n",
    "    \"Set 4\": [\n",
    "        r\"\\b(zorgkosten|patiënten|ziekenhuisopnames|sterftecijfers|levensverwachting|gezondheidsuitgaven|vaccinaties|epidemieën|medicatiegebruik)\\b\",\n",
    "        r\"\\b(reistijd|filedruk|kilometers afgelegd|verkeersongevallen|CO2-uitstoot|luchtvervuiling|hernieuwbare energie|klimaatverandering|waterkwaliteit)\\b\",\n",
    "        r\"\\b(grondprijzen|woningmarkt|huurprijzen|hypotheken|verkoopcijfers|bouwvergunningen|energieverbruik)\\b\"\n",
    "    ],\n",
    "    \"Set 5\": [\n",
    "        r\"\\b(vergeleken met|ten opzichte van|in vergelijking met|in het verleden|sinds \\d{4}|tussen \\d{4} en \\d{4})\\b\",\n",
    "        r\"\\b(ontwikkeling sinds|historische gegevens|trendanalyse|jaarverslagen|statistische rapporten)\\b\"\n",
    "    ],\n",
    "    \"Set 6\": [\n",
    "        r\"\\b(hoeveel|aantal|percentage|statistieken|cijfers|gegevens|data)\\b\",\n",
    "        r\"\\b(trend in|evolutie van|groei van|toename van|afname van|ontwikkeling van)\\b\",\n",
    "        r\"\\b(per\\s+\\w+|per\\s+\\d+|in\\s+\\d{4}|tussen\\s+\\d{4}\\s+en\\s+\\d{4})\\b\",  \n",
    "        r\"\\b(wat is het aantal|hoe groot is|hoe vaak|gemiddelde van|ratio van)\\b\"\n",
    "    ],\n",
    "    \"Set 7\": [\n",
    "        r\"^(Wat is het aantal|Hoeveel)\\b\",\n",
    "        r\"\\b(totale budget|welk budget|eenzelfde hoogte|gemiddeld aantal|geëvolueerd in de periode|jaarlijkse kostprijs |het aantal)\\b\",\n",
    "        r\"\\b(bedroeg|welk|Kan de minister|wat was)\\s*(de|een)?\\s*(factuur|budget|overzicht|kostprijs)\\b\",\n",
    "        r\"\\b(?:verschaffen|geven|tonen|lijst|overzicht van|bedroeg)?\\s*(de|een)?\\s*(gegevens|statistieken|cijfers|factuur|overzicht)\\b\"\n",
    "    ],\n",
    "    \"Set 8\": [\n",
    "        r\"^(Wat is het aantal|Hoeveel)\\b\", # zin moet beginnen met \n",
    "        r\"\\b(totale budget|welk budget|cijfer over|eenzelfde hoogte|gemiddeld aantal|geëvolueerd in de periode|jaarlijkse kostprijs|het aantal)\\b\", #zin moet bevatten\n",
    "        r\"\\b(bedroeg|welk|Kan de minister|wat was)\\s*(de|een)?\\s*(factuur|budget|overzicht|kostprijs)\\b\", #zin moet iets uit eerste en laatse groep bevatten, \"de\" en \"een\" zijn optioneel\n",
    "        r\"\\b(?:verschaffen|geven|tonen|lijst|overzicht van|bedroeg)?\\s*(de|een)?\\s*(gegevens|statistieken|cijfers|factuur|overzicht)\\b\"#zin moet iets uit tweede groep bevatten, eerste optioneel\n",
    "    ],\n",
    "    \"Set 9\": [\n",
    "        r\"^(Hoeveel)\\b\"\n",
    "    ]\n",
    "    \n",
    "}\n",
    "\n",
    "# Function to check if a question is statistical based on a pattern set\n",
    "def is_statistical(question, patterns):\n",
    "    return int(any(re.search(pattern, question, re.IGNORECASE) for pattern in patterns))\n",
    "\n",
    "# Apply each statistical set and store results in separate columns\n",
    "for set_name, patterns in statistical_sets.items():\n",
    "    df[set_name] = df.iloc[:, 0].apply(lambda q: is_statistical(q, patterns))\n",
    "\n",
    "# Trim df if necessary (to match the length of classifications)\n",
    "df = df.iloc[:len(df)]\n",
    "\n",
    "# Save the updated DataFrame to a new Excel file\n",
    "output_file = \"Updated_Methodology_Test.xlsx\"\n",
    "df.to_excel(output_file, index=False, engine=\"openpyxl\")\n",
    "\n",
    "print(f\"✅ Statistical classifications added and saved successfully to: {output_file}\")\n"
   ]
  },
  {
   "cell_type": "code",
   "execution_count": null,
   "id": "eeb2f15e-de5c-4488-8379-a1745548bf77",
   "metadata": {},
   "outputs": [],
   "source": []
  }
 ],
 "metadata": {
  "kernelspec": {
   "display_name": "Python 3 (ipykernel)",
   "language": "python",
   "name": "python3"
  },
  "language_info": {
   "codemirror_mode": {
    "name": "ipython",
    "version": 3
   },
   "file_extension": ".py",
   "mimetype": "text/x-python",
   "name": "python",
   "nbconvert_exporter": "python",
   "pygments_lexer": "ipython3",
   "version": "3.9.21"
  }
 },
 "nbformat": 4,
 "nbformat_minor": 5
}
