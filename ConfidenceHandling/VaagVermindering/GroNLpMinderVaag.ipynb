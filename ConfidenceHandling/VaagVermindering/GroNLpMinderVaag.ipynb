{
 "cells": [
  {
   "cell_type": "markdown",
   "id": "02f802ec-808c-4c4e-b6da-7d0e38ab4de0",
   "metadata": {},
   "source": [
    "**Bert model op basis van Bert van Universiteit van Groningen. Context handling moet nog aangepast worden. Oversampling a.d.h.v de mediaan. dynamisch treshhold zoeken voor unknown.**"
   ]
  },
  {
   "cell_type": "code",
   "execution_count": 1,
   "id": "24278f74",
   "metadata": {},
   "outputs": [
    {
     "name": "stderr",
     "output_type": "stream",
     "text": [
      "c:\\Users\\corne\\anaconda3\\envs\\thesis-env\\lib\\site-packages\\tqdm\\auto.py:21: TqdmWarning: IProgress not found. Please update jupyter and ipywidgets. See https://ipywidgets.readthedocs.io/en/stable/user_install.html\n",
      "  from .autonotebook import tqdm as notebook_tqdm\n"
     ]
    }
   ],
   "source": [
    "import pandas as pd\n",
    "import re\n",
    "import torch\n",
    "import numpy as np\n",
    "from torch.utils.data import Dataset, DataLoader\n",
    "from transformers import BertTokenizer, BertForSequenceClassification, Trainer, TrainingArguments, EarlyStoppingCallback\n",
    "from sklearn.model_selection import train_test_split\n",
    "from sklearn.metrics import accuracy_score, precision_recall_fscore_support\n",
    "from imblearn.over_sampling import RandomOverSampler\n",
    "import torch.nn.functional as F\n",
    "import os "
   ]
  },
  {
   "cell_type": "code",
   "execution_count": 2,
   "id": "7ce9fa61",
   "metadata": {},
   "outputs": [],
   "source": [
    "# ✅ 1. Load & Preprocess Data\n",
    "script_dir = os.path.dirname(os.getcwd()) # Ga één map omhoog om 'baseline' te verwijderen en ga naar 'Data'\n",
    "project_root = os.path.dirname(script_dir)  # Dit verwijdert 'baseline' van het script_dir\n",
    "data_folder = os.path.join(project_root, \"Data\")\n",
    "\n",
    "\n",
    "# 1. Dataset inladen\n",
    "file_path = os.path.join(data_folder, \"Grote_data_cleaned.xlsx\")\n",
    "df = pd.read_excel(file_path)"
   ]
  },
  {
   "cell_type": "code",
   "execution_count": 3,
   "id": "90b18e4e",
   "metadata": {},
   "outputs": [
    {
     "name": "stderr",
     "output_type": "stream",
     "text": [
      "C:\\Users\\corne\\AppData\\Local\\Temp\\ipykernel_17304\\4071691985.py:7: FutureWarning: A value is trying to be set on a copy of a DataFrame or Series through chained assignment using an inplace method.\n",
      "The behavior will change in pandas 3.0. This inplace method will never work because the intermediate object on which we are setting values always behaves as a copy.\n",
      "\n",
      "For example, when doing 'df[col].method(value, inplace=True)', try using 'df.method({col: value}, inplace=True)' or df[col] = df[col].method(value) instead, to perform the operation inplace on the original object.\n",
      "\n",
      "\n",
      "  df[\"context\"].fillna(\"\", inplace=True)\n"
     ]
    },
    {
     "name": "stdout",
     "output_type": "stream",
     "text": [
      "Number of rows after filtering: 92502\n"
     ]
    }
   ],
   "source": [
    "# Drop unnecessary columns\n",
    "if \"TXT_file_name\" in df.columns:\n",
    "    df = df.drop(columns=[\"TXT_file_name\"])\n",
    "\n",
    "# Handle missing values\n",
    "df = df.dropna(subset=[\"question\"])\n",
    "df[\"context\"].fillna(\"\", inplace=True)\n",
    "\n",
    "# Clean text\n",
    "def clean_text(text):\n",
    "    text = re.sub(r'\\n', ' ', text)  # Replace newlines with spaces\n",
    "    text = re.sub(r'\\b[a-z]\\)\\s*', ' ', text)  # Remove patterns like 'a)', 'b)', etc., with optional spaces\n",
    "    text = re.sub(r'\\b\\d+\\.\\b', '', text)  # Remove patterns like '1.', '2.', etc.\n",
    "    text = re.sub(r'\\b\\d+\\)\\b', '', text)  # Remove patterns like '1)', '2)', etc.\n",
    "    text = re.sub(r'\\b[i]+[.)]\\b', '', text, flags=re.IGNORECASE)  # Remove patterns like 'i.', 'ii.', 'i)', etc.\n",
    "    text = re.sub(r'\\b\\d+[.)]\\s*', '', text) # Remove numeric list markers like 1., 2. or 1) 2)\n",
    "    text = re.sub(r'\\b[ivxlcdm]+\\s*[.)]\\s*', '', text, flags=re.IGNORECASE)# Remove roman numerals like i. ii. iii. or i) ii) iii)\n",
    "    text = re.sub(r'•', '', text)  # Remove bullet symbol\n",
    "    text = re.sub(r'\\[\\d+\\]', '', text)  # Remove patterns like '[1]', '[2]', etc.\n",
    "    text = re.sub(r'\\s+', ' ', text).strip()  # Remove extra spaces and trim\n",
    "\n",
    "    return text\n",
    "# df[\"clean_text\"] = (df[\"context\"] + \" \" + df[\"question\"]).apply(clean_text)\n",
    "df[\"clean_text\"] = (df[\"question\"]).apply(clean_text) \n",
    "\n",
    "# Group by 'clean_text' and count unique themes\n",
    "duplicates_with_diff_themes = df.groupby(\"clean_text\")[\"theme\"].nunique().reset_index()\n",
    "\n",
    "# Filter rows where the number of unique themes is greater than 1\n",
    "duplicates_with_diff_themes = duplicates_with_diff_themes[duplicates_with_diff_themes[\"theme\"] > 1]\n",
    "\n",
    "# Merge back with the original dataframe to get all rows with these 'clean_text'\n",
    "filtered_df = df[df[\"clean_text\"].isin(duplicates_with_diff_themes[\"clean_text\"])]\n",
    "# Exclude rows with these 'clean_text' from the original dataframe\n",
    "df = df[~df[\"clean_text\"].isin(duplicates_with_diff_themes[\"clean_text\"])]\n",
    "\n",
    "\n",
    "# Thema-cluster mapping\n",
    "theme_merge_map = {\n",
    "    # Bestuur en Beleid\n",
    "    \"Lokale overheden en Binnenlands bestuur\": \"Bestuur en Beleid\",\n",
    "    \"Vlaamse administratie\": \"Bestuur en Beleid\",\n",
    "    \"Staatshervorming en Verhoudingen binnen de Belgische federale staat\": \"Bestuur en Beleid\",\n",
    "    \"Vlaamse Regering\": \"Bestuur en Beleid\",\n",
    "    \"Vlaams Parlement\": \"Bestuur en Beleid\",\n",
    "\n",
    "    # Mobiliteit en Infrastructuur\n",
    "    \"Mobiliteit en Verkeer\": \"Mobiliteit en Infrastructuur\",\n",
    "    \"Openbare werken\": \"Mobiliteit en Infrastructuur\",\n",
    "    \"Ruimtelijke ordening\": \"Mobiliteit en Infrastructuur\",\n",
    "\n",
    "    # Economie en Arbeid\n",
    "    \"Werk\": \"Economie en Arbeid\",\n",
    "    \"Economie\": \"Economie en Arbeid\",\n",
    "    \"Sociale economie\": \"Economie en Arbeid\",\n",
    "    \"Internationaal ondernemen\": \"Economie en Arbeid\",\n",
    "\n",
    "    # Welzijn en Gezondheid\n",
    "    \"Welzijn en Gezin\": \"Welzijn en Gezondheid\",\n",
    "    \"Gezondheid\": \"Welzijn en Gezondheid\",\n",
    "    \"Armoedebeleid\": \"Welzijn en Gezondheid\",\n",
    "\n",
    "    # Cultuur en Communicatie\n",
    "    \"Cultuur\": \"Cultuur en Communicatie\",\n",
    "    \"Media\": \"Cultuur en Communicatie\",\n",
    "    \"Taalgebruik\": \"Cultuur en Communicatie\",\n",
    "\n",
    "    # Onderwijs en Samenleving\n",
    "    \"Onderwijs en Vorming\": \"Onderwijs en Samenleving\",\n",
    "    \"Gelijke kansen\": \"Onderwijs en Samenleving\",\n",
    "    \"Jeugdbeleid\": \"Onderwijs en Samenleving\",\n",
    "    \"Integratie en Inburgering\": \"Onderwijs en Samenleving\",\n",
    "\n",
    "    # Milieu en Landbouw\n",
    "    \"Natuur en Milieu\": \"Milieu en Landbouw\",\n",
    "    \"Landbouw\": \"Milieu en Landbouw\",\n",
    "    \"Dierenwelzijn\": \"Milieu en Landbouw\",\n",
    "\n",
    "    # Internationaal Beleid\n",
    "    \"Buitenlands beleid\": \"Internationaal Beleid\",\n",
    "    \"Europese instellingen\": \"Internationaal Beleid\",\n",
    "    \"Ontwikkelingssamenwerking\": \"Internationaal Beleid\",\n",
    "    \"Oekraïnecrisis\": \"Internationaal Beleid\",\n",
    "\n",
    "    # Overige (apart laten tenzij weinig samples)\n",
    "    \"Financiën\": \"Financiën\",\n",
    "    \"Begroting\": \"Begroting\",\n",
    "    \"Wetenschap en Innovatie\": \"Wetenschap en Innovatie\",\n",
    "    \"Toerisme\": \"Toerisme\",\n",
    "    \"Justitie en Handhaving\": \"Justitie en Handhaving\",\n",
    "    \"Brussel en de Vlaamse Rand\": \"Brussel en de Vlaamse Rand\",\n",
    "    \"Sport\": \"Sport\",\n",
    "    \"Onroerend erfgoed\": \"Onroerend erfgoed\",\n",
    "    \"Energie\": \"Energie\",\n",
    "    \"Wonen\": \"Wonen\",\n",
    "}\n",
    "\n",
    "# Nieuwe kolom aanmaken met samengevoegde thema's\n",
    "df[\"theme\"] = df[\"theme\"].map(theme_merge_map).fillna(\"Onbekend\")\n",
    "\n",
    "# ✅ Now: drop rare themes using original theme names\n",
    "theme_counts = df[\"theme\"].value_counts()\n",
    "valid_themes = theme_counts[theme_counts >= 2].index\n",
    "df = df[df[\"theme\"].isin(valid_themes)]\n",
    "\n",
    "# ✅ Recompute label encoding AFTER filtering\n",
    "unique_themes = list(df[\"theme\"].unique())\n",
    "theme_to_id = {theme: idx for idx, theme in enumerate(unique_themes)}\n",
    "id_to_theme = {idx: theme for theme, idx in theme_to_id.items()}\n",
    "df[\"theme_id\"] = df[\"theme\"].map(theme_to_id)\n",
    "\n",
    "#amount of rows \n",
    "print(f\"Number of rows after filtering: {len(df)}\")"
   ]
  },
  {
   "cell_type": "code",
   "execution_count": 4,
   "id": "e39c192b",
   "metadata": {},
   "outputs": [],
   "source": [
    "# Remove rows where the 'question' column has 9 or fewer words\n",
    "df = df[df['clean_text'].apply(lambda x: len(str(x).split()) > 9)]\n",
    "\n",
    "# Remove rows where the 'question' column contains the specific phrase (with flexible matching)\n",
    "df = df[~df['clean_text'].str.contains(r'\\bKan de minister een overzicht geven\\b', flags=re.IGNORECASE, na=False)]\n",
    "\n",
    "# Remove rows where 'clean_text' contains \"https:\"\n",
    "df = df[~df['clean_text'].str.contains(r'https:', flags=re.IGNORECASE, na=False)]"
   ]
  },
  {
   "cell_type": "code",
   "execution_count": 5,
   "id": "fcb6cbd5",
   "metadata": {},
   "outputs": [
    {
     "name": "stdout",
     "output_type": "stream",
     "text": [
      "All theme_ids: [np.int64(0), np.int64(1), np.int64(2), np.int64(3), np.int64(4), np.int64(5), np.int64(6), np.int64(7), np.int64(8), np.int64(9), np.int64(10), np.int64(11), np.int64(12), np.int64(13), np.int64(14), np.int64(15), np.int64(16), np.int64(17)]\n",
      "num_labels: 18\n"
     ]
    }
   ],
   "source": [
    "print(\"All theme_ids:\", sorted(df[\"theme_id\"].unique()))\n",
    "print(\"num_labels:\", df[\"theme_id\"].nunique())"
   ]
  },
  {
   "cell_type": "code",
   "execution_count": 6,
   "id": "ca405063",
   "metadata": {},
   "outputs": [
    {
     "name": "stdout",
     "output_type": "stream",
     "text": [
      "64571\n"
     ]
    }
   ],
   "source": [
    "print(len(df))"
   ]
  },
  {
   "cell_type": "code",
   "execution_count": 7,
   "id": "df72f188",
   "metadata": {},
   "outputs": [],
   "source": [
    "df.to_excel(\"Brah.xlsx\", index=False)\n"
   ]
  },
  {
   "cell_type": "code",
   "execution_count": 10,
   "id": "9ed805a2",
   "metadata": {},
   "outputs": [],
   "source": [
    "# ✅ 5. Split Data into Train & Test\n",
    "train_texts, test_texts, train_labels, test_labels = train_test_split(\n",
    "    df[\"clean_text\"].tolist(), df[\"theme_id\"].tolist(), test_size=0.2, random_state=42, stratify=df[\"theme_id\"]\n",
    ")"
   ]
  },
  {
   "cell_type": "code",
   "execution_count": 11,
   "id": "2626eb2d",
   "metadata": {},
   "outputs": [
    {
     "name": "stdout",
     "output_type": "stream",
     "text": [
      "Class distribution after oversampling: Counter({9: 13730, 2: 8024, 12: 6169, 10: 5313, 4: 4156, 1: 3601, 6: 3314, 8: 2467, 5: 1793, 13: 1793, 0: 1793, 11: 1793, 3: 1793, 7: 1793, 14: 1793, 15: 1793})\n"
     ]
    }
   ],
   "source": [
    "from imblearn.over_sampling import RandomOverSampler\n",
    "import pandas as pd\n",
    "\n",
    "# Create a small DataFrame from train lists\n",
    "train_df = pd.DataFrame({\n",
    "    \"clean_text\": train_texts,\n",
    "    \"theme_id\": train_labels\n",
    "})\n",
    "\n",
    "# Compute class counts and use median as balancing target\n",
    "theme_counts = train_df[\"theme_id\"].value_counts()\n",
    "median_count = theme_counts.median()\n",
    "\n",
    "# Define strategy: only oversample underrepresented classes\n",
    "sampling_strategy = {\n",
    "    theme: int(median_count)\n",
    "    for theme in theme_counts.index\n",
    "    if theme_counts[theme] < median_count\n",
    "}\n",
    "\n",
    "# Apply RandomOverSampler\n",
    "ros = RandomOverSampler(sampling_strategy=sampling_strategy, random_state=42)\n",
    "X_resampled, y_resampled = ros.fit_resample(train_df[[\"clean_text\"]], train_df[\"theme_id\"])\n",
    "\n",
    "# Extract oversampled train lists\n",
    "train_texts_resampled = X_resampled[\"clean_text\"].tolist()\n",
    "train_labels_resampled = y_resampled.tolist()\n",
    "\n",
    "from collections import Counter\n",
    "print(\"Class distribution after oversampling:\", Counter(train_labels_resampled))\n"
   ]
  },
  {
   "cell_type": "code",
   "execution_count": 12,
   "id": "b392dad6",
   "metadata": {},
   "outputs": [],
   "source": [
    "# ✅ 7. Load BERT Tokenizer & Define Dataset Class\n",
    "model_name = \"GroNLP/bert-base-dutch-cased\"\n",
    "tokenizer = BertTokenizer.from_pretrained(model_name)\n",
    "\n",
    "class ThemeDataset(Dataset):\n",
    "    def __init__(self, texts, labels, tokenizer, max_length=512):\n",
    "        self.texts = texts\n",
    "        self.labels = labels\n",
    "        self.tokenizer = tokenizer\n",
    "        self.max_length = max_length\n",
    "\n",
    "    def __len__(self):\n",
    "        return len(self.texts)\n",
    "\n",
    "    def __getitem__(self, idx):\n",
    "        encoding = self.tokenizer(\n",
    "            self.texts[idx], padding=\"max_length\", truncation=True, max_length=self.max_length, return_tensors=\"pt\"\n",
    "        )\n",
    "        encoding[\"labels\"] = torch.tensor(self.labels[idx])\n",
    "        return {key: val.squeeze(0) for key, val in encoding.items()}\n",
    "\n",
    "train_dataset = ThemeDataset(train_texts_resampled, train_labels_resampled, tokenizer)\n",
    "test_dataset = ThemeDataset(test_texts, test_labels, tokenizer)"
   ]
  },
  {
   "cell_type": "code",
   "execution_count": 13,
   "id": "4ebcd1e9",
   "metadata": {},
   "outputs": [
    {
     "name": "stderr",
     "output_type": "stream",
     "text": [
      "Some weights of BertForSequenceClassification were not initialized from the model checkpoint at GroNLP/bert-base-dutch-cased and are newly initialized: ['bert.pooler.dense.bias', 'bert.pooler.dense.weight', 'classifier.bias', 'classifier.weight']\n",
      "You should probably TRAIN this model on a down-stream task to be able to use it for predictions and inference.\n"
     ]
    }
   ],
   "source": [
    "# ✅ 8. Load BERT Model for Classification\n",
    "model = BertForSequenceClassification.from_pretrained(model_name, num_labels=df[\"theme_id\"].nunique())"
   ]
  },
  {
   "cell_type": "code",
   "execution_count": 14,
   "id": "7423c6f4-03c2-42c7-93bd-ca27f376ee2b",
   "metadata": {},
   "outputs": [
    {
     "name": "stderr",
     "output_type": "stream",
     "text": [
      "c:\\Users\\corne\\anaconda3\\envs\\thesis-env\\lib\\site-packages\\transformers\\training_args.py:1568: FutureWarning: `evaluation_strategy` is deprecated and will be removed in version 4.46 of 🤗 Transformers. Use `eval_strategy` instead\n",
      "  warnings.warn(\n",
      " 12%|█▎        | 7640/61120 [26:05<2:51:08,  5.21it/s]"
     ]
    },
    {
     "name": "stdout",
     "output_type": "stream",
     "text": [
      "{'loss': 1.1798, 'grad_norm': 15.804769515991211, 'learning_rate': 1.750163612565445e-05, 'epoch': 1.0}\n"
     ]
    },
    {
     "name": "stderr",
     "output_type": "stream",
     "text": [
      "                                                      \n",
      " 12%|█▎        | 7640/61120 [27:22<2:51:08,  5.21it/s]"
     ]
    },
    {
     "name": "stdout",
     "output_type": "stream",
     "text": [
      "{'eval_loss': 0.9586341381072998, 'eval_accuracy': 0.7127371273712737, 'eval_precision': 0.7288897047427446, 'eval_recall': 0.7127371273712737, 'eval_f1': 0.7141815177133344, 'eval_runtime': 76.9497, 'eval_samples_per_second': 167.837, 'eval_steps_per_second': 20.988, 'epoch': 1.0}\n"
     ]
    },
    {
     "name": "stderr",
     "output_type": "stream",
     "text": [
      " 25%|██▌       | 15280/61120 [53:36<2:28:24,  5.15it/s] "
     ]
    },
    {
     "name": "stdout",
     "output_type": "stream",
     "text": [
      "{'loss': 0.5841, 'grad_norm': 80.64071655273438, 'learning_rate': 1.5002617801047121e-05, 'epoch': 2.0}\n"
     ]
    },
    {
     "name": "stderr",
     "output_type": "stream",
     "text": [
      "                                                       \n",
      " 25%|██▌       | 15280/61120 [54:52<2:28:24,  5.15it/s]"
     ]
    },
    {
     "name": "stdout",
     "output_type": "stream",
     "text": [
      "{'eval_loss': 0.906536340713501, 'eval_accuracy': 0.7523809523809524, 'eval_precision': 0.7522041870757319, 'eval_recall': 0.7523809523809524, 'eval_f1': 0.7508831605748869, 'eval_runtime': 76.3132, 'eval_samples_per_second': 169.237, 'eval_steps_per_second': 21.163, 'epoch': 2.0}\n"
     ]
    },
    {
     "name": "stderr",
     "output_type": "stream",
     "text": [
      " 38%|███▊      | 22920/61120 [1:25:06<2:02:17,  5.21it/s]"
     ]
    },
    {
     "name": "stdout",
     "output_type": "stream",
     "text": [
      "{'loss': 0.3595, 'grad_norm': 73.30034637451172, 'learning_rate': 1.2503599476439792e-05, 'epoch': 3.0}\n"
     ]
    },
    {
     "name": "stderr",
     "output_type": "stream",
     "text": [
      "                                                         \n",
      " 38%|███▊      | 22920/61120 [1:26:22<2:02:17,  5.21it/s]"
     ]
    },
    {
     "name": "stdout",
     "output_type": "stream",
     "text": [
      "{'eval_loss': 1.0884649753570557, 'eval_accuracy': 0.7670925280681378, 'eval_precision': 0.7704428236342079, 'eval_recall': 0.7670925280681378, 'eval_f1': 0.7665732677815865, 'eval_runtime': 76.2526, 'eval_samples_per_second': 169.371, 'eval_steps_per_second': 21.18, 'epoch': 3.0}\n"
     ]
    },
    {
     "name": "stderr",
     "output_type": "stream",
     "text": [
      " 50%|█████     | 30560/61120 [1:54:01<1:40:46,  5.05it/s]  "
     ]
    },
    {
     "name": "stdout",
     "output_type": "stream",
     "text": [
      "{'loss': 0.2236, 'grad_norm': 58.785804748535156, 'learning_rate': 1.0004908376963351e-05, 'epoch': 4.0}\n"
     ]
    },
    {
     "name": "stderr",
     "output_type": "stream",
     "text": [
      "                                                         \n",
      " 50%|█████     | 30560/61120 [1:55:19<1:40:46,  5.05it/s]"
     ]
    },
    {
     "name": "stdout",
     "output_type": "stream",
     "text": [
      "{'eval_loss': 1.3289031982421875, 'eval_accuracy': 0.7711962833914053, 'eval_precision': 0.7753983831270107, 'eval_recall': 0.7711962833914053, 'eval_f1': 0.7704356423349179, 'eval_runtime': 78.39, 'eval_samples_per_second': 164.753, 'eval_steps_per_second': 20.602, 'epoch': 4.0}\n"
     ]
    },
    {
     "name": "stderr",
     "output_type": "stream",
     "text": [
      " 62%|██████▎   | 38200/61120 [2:21:42<1:12:07,  5.30it/s]  "
     ]
    },
    {
     "name": "stdout",
     "output_type": "stream",
     "text": [
      "{'loss': 0.1338, 'grad_norm': 0.0011212157551199198, 'learning_rate': 7.505562827225131e-06, 'epoch': 5.0}\n"
     ]
    },
    {
     "name": "stderr",
     "output_type": "stream",
     "text": [
      "                                                         \n",
      " 62%|██████▎   | 38200/61120 [2:22:58<1:12:07,  5.30it/s]"
     ]
    },
    {
     "name": "stdout",
     "output_type": "stream",
     "text": [
      "{'eval_loss': 1.654502034187317, 'eval_accuracy': 0.7774680603948897, 'eval_precision': 0.7762357489916658, 'eval_recall': 0.7774680603948897, 'eval_f1': 0.7756522603690519, 'eval_runtime': 75.8463, 'eval_samples_per_second': 170.279, 'eval_steps_per_second': 21.293, 'epoch': 5.0}\n"
     ]
    },
    {
     "name": "stderr",
     "output_type": "stream",
     "text": [
      " 75%|███████▌  | 45840/61120 [2:50:45<56:32,  4.50it/s]    "
     ]
    },
    {
     "name": "stdout",
     "output_type": "stream",
     "text": [
      "{'loss': 0.0784, 'grad_norm': 0.3927507996559143, 'learning_rate': 5.006544502617801e-06, 'epoch': 6.0}\n"
     ]
    },
    {
     "name": "stderr",
     "output_type": "stream",
     "text": [
      "                                                       \n",
      " 75%|███████▌  | 45840/61120 [2:52:34<56:32,  4.50it/s]"
     ]
    },
    {
     "name": "stdout",
     "output_type": "stream",
     "text": [
      "{'eval_loss': 1.8001006841659546, 'eval_accuracy': 0.7837398373983739, 'eval_precision': 0.7836500928631909, 'eval_recall': 0.7837398373983739, 'eval_f1': 0.7827071850407704, 'eval_runtime': 109.6732, 'eval_samples_per_second': 117.759, 'eval_steps_per_second': 14.726, 'epoch': 6.0}\n"
     ]
    },
    {
     "name": "stderr",
     "output_type": "stream",
     "text": [
      " 88%|████████▊ | 53480/61120 [3:19:04<24:22,  5.23it/s]    "
     ]
    },
    {
     "name": "stdout",
     "output_type": "stream",
     "text": [
      "{'loss': 0.043, 'grad_norm': 0.021843956783413887, 'learning_rate': 2.5078534031413615e-06, 'epoch': 7.0}\n"
     ]
    },
    {
     "name": "stderr",
     "output_type": "stream",
     "text": [
      "                                                       \n",
      " 88%|████████▊ | 53480/61120 [3:20:22<24:22,  5.23it/s]"
     ]
    },
    {
     "name": "stdout",
     "output_type": "stream",
     "text": [
      "{'eval_loss': 1.8927680253982544, 'eval_accuracy': 0.783662408052652, 'eval_precision': 0.7826215428646138, 'eval_recall': 0.783662408052652, 'eval_f1': 0.7824796600461998, 'eval_runtime': 77.0726, 'eval_samples_per_second': 167.569, 'eval_steps_per_second': 20.954, 'epoch': 7.0}\n"
     ]
    },
    {
     "name": "stderr",
     "output_type": "stream",
     "text": [
      "100%|██████████| 61120/61120 [3:46:11<00:00,  5.34it/s]   "
     ]
    },
    {
     "name": "stdout",
     "output_type": "stream",
     "text": [
      "{'loss': 0.0199, 'grad_norm': 0.0019660000689327717, 'learning_rate': 8.507853403141361e-09, 'epoch': 8.0}\n"
     ]
    },
    {
     "name": "stderr",
     "output_type": "stream",
     "text": [
      "                                                       \n",
      "100%|██████████| 61120/61120 [3:47:28<00:00,  5.34it/s]"
     ]
    },
    {
     "name": "stdout",
     "output_type": "stream",
     "text": [
      "{'eval_loss': 1.9375015497207642, 'eval_accuracy': 0.7841269841269841, 'eval_precision': 0.7829741275779198, 'eval_recall': 0.7841269841269841, 'eval_f1': 0.7828152723040626, 'eval_runtime': 77.4404, 'eval_samples_per_second': 166.773, 'eval_steps_per_second': 20.855, 'epoch': 8.0}\n"
     ]
    },
    {
     "name": "stderr",
     "output_type": "stream",
     "text": [
      "100%|██████████| 61120/61120 [3:47:30<00:00,  4.48it/s]"
     ]
    },
    {
     "name": "stdout",
     "output_type": "stream",
     "text": [
      "{'train_runtime': 13650.3679, 'train_samples_per_second': 35.819, 'train_steps_per_second': 4.478, 'train_loss': 0.3277642851724675, 'epoch': 8.0}\n"
     ]
    },
    {
     "name": "stderr",
     "output_type": "stream",
     "text": [
      "\n"
     ]
    },
    {
     "data": {
      "text/plain": [
       "TrainOutput(global_step=61120, training_loss=0.3277642851724675, metrics={'train_runtime': 13650.3679, 'train_samples_per_second': 35.819, 'train_steps_per_second': 4.478, 'total_flos': 1.2866274277117133e+17, 'train_loss': 0.3277642851724675, 'epoch': 8.0})"
      ]
     },
     "execution_count": 14,
     "metadata": {},
     "output_type": "execute_result"
    }
   ],
   "source": [
    "# ✅ 9. Define Training Arguments (With Early Stopping)\n",
    "training_args = TrainingArguments(\n",
    "    output_dir=\"./results\",\n",
    "    evaluation_strategy=\"epoch\",\n",
    "    save_strategy=\"epoch\",\n",
    "    save_total_limit=1,                 # 👈 Keep only the last checkpoint\n",
    "    learning_rate=2e-5,\n",
    "    per_device_train_batch_size=8,\n",
    "    per_device_eval_batch_size=8,\n",
    "    num_train_epochs=8,  \n",
    "    weight_decay=0.01,\n",
    "    logging_dir=\"./logs\",\n",
    "    logging_strategy=\"epoch\",  # 🔥 Log only once per epoch\n",
    "    fp16=True,\n",
    "    load_best_model_at_end=True,\n",
    "    metric_for_best_model=\"f1\",\n",
    "    greater_is_better=True\n",
    ")\n",
    "\n",
    "# ✅ 10. Define Metrics for Evaluation\n",
    "def compute_metrics(pred):\n",
    "    labels = pred.label_ids\n",
    "    preds = pred.predictions.argmax(-1)\n",
    "    acc = accuracy_score(labels, preds)\n",
    "    precision, recall, f1, _ = precision_recall_fscore_support(labels, preds, average=\"weighted\", zero_division=1)\n",
    "    return {\"accuracy\": acc, \"precision\": precision, \"recall\": recall, \"f1\": f1}\n",
    "\n",
    "# ✅ 11. Train Model with Early Stopping\n",
    "trainer = Trainer(\n",
    "    model=model,\n",
    "    args=training_args,\n",
    "    train_dataset=train_dataset,\n",
    "    eval_dataset=test_dataset,\n",
    "    compute_metrics=compute_metrics,\n",
    "    callbacks=[EarlyStoppingCallback(early_stopping_patience=2)]  # Stop if no improvement for 2 epochs\n",
    ")\n",
    "\n",
    "trainer.train()"
   ]
  },
  {
   "cell_type": "markdown",
   "id": "a0c9cbf7",
   "metadata": {},
   "source": [
    "SAVE MODEL TO KUL DRIVE"
   ]
  },
  {
   "cell_type": "code",
   "execution_count": 15,
   "id": "4b892a6b",
   "metadata": {},
   "outputs": [
    {
     "name": "stderr",
     "output_type": "stream",
     "text": [
      "100%|██████████| 1615/1615 [01:16<00:00, 21.14it/s]\n"
     ]
    },
    {
     "name": "stdout",
     "output_type": "stream",
     "text": [
      "Everything saved in: C:/Users/corne/OneDrive - KU Leuven/Thesis/Working Code/SAVED-Models/GroNLP\\Run_2025-04-10_21-40\n"
     ]
    }
   ],
   "source": [
    "import os\n",
    "from datetime import datetime\n",
    "import numpy as np\n",
    "import pandas as pd\n",
    "import json\n",
    "\n",
    "\n",
    "# === Create timestamped save path in OneDrive ===\n",
    "run_id = datetime.now().strftime(\"%Y-%m-%d_%H-%M\")\n",
    "base_path = \"C:/Users/corne/OneDrive - KU Leuven/Thesis/Working Code/SAVED-Models/GroNLP\"\n",
    "save_path = os.path.join(base_path, f\"Run_{run_id}\")\n",
    "os.makedirs(save_path, exist_ok=True)\n",
    "\n",
    "# === Save model using Trainer ===\n",
    "trainer.save_model(save_path)\n",
    "\n",
    "# === Get predictions ===\n",
    "preds_output = trainer.predict(test_dataset)\n",
    "logits = preds_output.predictions\n",
    "predictions = np.argmax(logits, axis=1)\n",
    "\n",
    "# === Save predictions to CSV ===\n",
    "output_df = pd.DataFrame({\n",
    "    \"text\": test_texts,  # make sure test_texts is defined\n",
    "    \"true_label\": test_labels,  # make sure test_labels is defined\n",
    "    \"predicted_label\": predictions,\n",
    "    \"logits\": logits.tolist()\n",
    "})\n",
    "\n",
    "csv_path = os.path.join(save_path, \"test_predictions.csv\")\n",
    "output_df.to_csv(csv_path, index=False)\n",
    "\n",
    "# === Optional: Save a description file ===\n",
    "description = \"\"\"\n",
    "Model: GroNLP BERT-based Dutch Cased\n",
    "Training Details:\n",
    "!!!\n",
    "geen context meegegeven in zowel train als test\n",
    "vragen langer dan 9 woorden wordden behouden\n",
    "geen vragen met 'Kan de minister een overzicht geven' in train of test  \n",
    "geen vragen met 'https:' in train of test\n",
    "!!!\n",
    "\n",
    "Dataset: Grote_data_cleaned.xlsx\n",
    "Number of training samples: {train_samples}\n",
    "Number of test samples: {test_samples}\n",
    "Number of labels: {num_labels}\n",
    "Label mapping: {label_mapping}\n",
    "\n",
    "\n",
    "\"\"\"\n",
    "\n",
    "desc_path = os.path.join(save_path, \"model_description.txt\")\n",
    "with open(desc_path, \"w\", encoding=\"utf-8\") as f:\n",
    "    f.write(description)\n",
    "\n",
    "# === Save label mappings ===\n",
    "mappings_path = os.path.join(save_path, \"label_mappings.json\")\n",
    "with open(mappings_path, \"w\", encoding=\"utf-8\") as f:\n",
    "    json.dump({\n",
    "        \"theme_to_id\": theme_to_id,\n",
    "        \"id_to_theme\": {str(k): v for k, v in id_to_theme.items()}  # keys must be str for JSON\n",
    "    }, f, ensure_ascii=False, indent=4)\n",
    "\n",
    "\n",
    "print(f\"Everything saved in: {save_path}\")\n"
   ]
  }
 ],
 "metadata": {
  "kernelspec": {
   "display_name": "thesis-env",
   "language": "python",
   "name": "python3"
  },
  "language_info": {
   "codemirror_mode": {
    "name": "ipython",
    "version": 3
   },
   "file_extension": ".py",
   "mimetype": "text/x-python",
   "name": "python",
   "nbconvert_exporter": "python",
   "pygments_lexer": "ipython3",
   "version": "3.9.20"
  }
 },
 "nbformat": 4,
 "nbformat_minor": 5
}
