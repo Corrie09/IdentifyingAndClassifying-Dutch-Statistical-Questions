{
 "cells": [
  {
   "cell_type": "code",
   "execution_count": 2,
   "id": "a7c1dd59",
   "metadata": {},
   "outputs": [
    {
     "name": "stderr",
     "output_type": "stream",
     "text": [
      "c:\\Users\\corne\\anaconda3\\envs\\thesis-env\\lib\\site-packages\\tqdm\\auto.py:21: TqdmWarning: IProgress not found. Please update jupyter and ipywidgets. See https://ipywidgets.readthedocs.io/en/stable/user_install.html\n",
      "  from .autonotebook import tqdm as notebook_tqdm\n"
     ]
    }
   ],
   "source": [
    "import pandas as pd\n",
    "import re\n",
    "import torch\n",
    "import numpy as np\n",
    "from torch.utils.data import Dataset, DataLoader\n",
    "from transformers import BertTokenizer, BertForSequenceClassification, Trainer, TrainingArguments, EarlyStoppingCallback\n",
    "from sklearn.model_selection import train_test_split\n",
    "from sklearn.metrics import accuracy_score, precision_recall_fscore_support\n",
    "from imblearn.over_sampling import RandomOverSampler\n",
    "import torch.nn.functional as F\n",
    "import os "
   ]
  },
  {
   "cell_type": "code",
   "execution_count": 3,
   "id": "bea002ef",
   "metadata": {},
   "outputs": [
    {
     "name": "stdout",
     "output_type": "stream",
     "text": [
      "                                             context  \\\n",
      "0  Een draft van deze visienota  is opgemaakt en ...   \n",
      "1  Een draft van deze visienota  is opgemaakt en ...   \n",
      "2  Een draft van deze visienota  is opgemaakt en ...   \n",
      "3  Daarna  zal Fluvius  de visienota indienen bij...   \n",
      "4  Wanneer ze zich daarna  opnieuw willen  inzett...   \n",
      "\n",
      "                                            question  statistical    theme  \\\n",
      "0  1.Kan de VREG de opgestelde visienota van Fluv...            0  Energie   \n",
      "1     a)Wat zijn de krijtlijnen  van deze visienota?            0  Energie   \n",
      "2  b)Welke acties zullen op basis van deze visien...            0  Energie   \n",
      "3  2.Wat is de reactie van de VREG op deze visien...            0  Energie   \n",
      "4  1.Hoeveel 50-54, 55-59  en 60-plussers  zijn s...            1     Werk   \n",
      "\n",
      "     file_name  \n",
      "0  1919076.txt  \n",
      "1  1919076.txt  \n",
      "2  1919076.txt  \n",
      "3  1919076.txt  \n",
      "4  1919282.txt  \n",
      "<class 'pandas.core.frame.DataFrame'>\n",
      "RangeIndex: 39125 entries, 0 to 39124\n",
      "Data columns (total 5 columns):\n",
      " #   Column       Non-Null Count  Dtype \n",
      "---  ------       --------------  ----- \n",
      " 0   context      38810 non-null  object\n",
      " 1   question     39125 non-null  object\n",
      " 2   statistical  39125 non-null  int64 \n",
      " 3   theme        39125 non-null  object\n",
      " 4   file_name    39125 non-null  object\n",
      "dtypes: int64(1), object(4)\n",
      "memory usage: 1.5+ MB\n",
      "None\n"
     ]
    }
   ],
   "source": [
    "# ✅ 1. Load & Preprocess Data\n",
    "script_dir = os.path.dirname(os.getcwd()) # Ga één map omhoog om 'baseline' te verwijderen en ga naar 'Data'\n",
    "project_root = os.path.dirname(script_dir)  # Dit verwijdert 'baseline' van het script_dir\n",
    "data_folder = os.path.join(project_root, \"Data\")\n",
    "\n",
    "# 1. Dataset inladen\n",
    "file_path = os.path.join(data_folder, \"Grote_data_cleaned.xlsx\")\n",
    "df = pd.read_excel(file_path)\n",
    "\n",
    "#visualize the data\n",
    "print(df.head())\n",
    "print(df.info())"
   ]
  },
  {
   "cell_type": "code",
   "execution_count": 4,
   "id": "31ff6cd7",
   "metadata": {},
   "outputs": [],
   "source": [
    "# Thema-cluster mapping\n",
    "theme_merge_map = {\n",
    "    # Bestuur en Beleid\n",
    "    \"Lokale overheden en Binnenlands bestuur\": \"Bestuur en Beleid\",\n",
    "    \"Vlaamse administratie\": \"Bestuur en Beleid\",\n",
    "    \"Staatshervorming en Verhoudingen binnen de Belgische federale staat\": \"Bestuur en Beleid\",\n",
    "    \"Vlaamse Regering\": \"Bestuur en Beleid\",\n",
    "\n",
    "    # Mobiliteit en Infrastructuur\n",
    "    \"Mobiliteit en Verkeer\": \"Mobiliteit en Infrastructuur\",\n",
    "    \"Openbare werken\": \"Mobiliteit en Infrastructuur\",\n",
    "    \"Ruimtelijke ordening\": \"Mobiliteit en Infrastructuur\",\n",
    "\n",
    "    # Economie en Arbeid\n",
    "    \"Werk\": \"Economie en Arbeid\",\n",
    "    \"Economie\": \"Economie en Arbeid\",\n",
    "    \"Sociale economie\": \"Economie en Arbeid\",\n",
    "    \"Internationaal ondernemen\": \"Economie en Arbeid\",\n",
    "\n",
    "    # Welzijn en Gezondheid\n",
    "    \"Welzijn en Gezin\": \"Welzijn en Gezondheid\",\n",
    "    \"Gezondheid\": \"Welzijn en Gezondheid\",\n",
    "    \"Armoedebeleid\": \"Welzijn en Gezondheid\",\n",
    "\n",
    "    # Cultuur en Communicatie\n",
    "    \"Cultuur\": \"Cultuur en Communicatie\",\n",
    "    \"Media\": \"Cultuur en Communicatie\",\n",
    "    \"Taalgebruik\": \"Cultuur en Communicatie\",\n",
    "\n",
    "    # Onderwijs en Samenleving\n",
    "    \"Onderwijs en Vorming\": \"Onderwijs en Samenleving\",\n",
    "    \"Gelijke kansen\": \"Onderwijs en Samenleving\",\n",
    "    \"Jeugdbeleid\": \"Onderwijs en Samenleving\",\n",
    "    \"Integratie en Inburgering\": \"Onderwijs en Samenleving\",\n",
    "\n",
    "    # Milieu en Landbouw\n",
    "    \"Natuur en Milieu\": \"Milieu en Landbouw\",\n",
    "    \"Landbouw\": \"Milieu en Landbouw\",\n",
    "    \"Dierenwelzijn\": \"Milieu en Landbouw\",\n",
    "\n",
    "    # Internationaal Beleid\n",
    "    \"Buitenlands beleid\": \"Internationaal Beleid\",\n",
    "    \"Europese instellingen\": \"Internationaal Beleid\",\n",
    "    \"Ontwikkelingssamenwerking\": \"Internationaal Beleid\",\n",
    "    \"Oekraïnecrisis\": \"Internationaal Beleid\",\n",
    "\n",
    "    # Overige (apart laten tenzij weinig samples)\n",
    "    \"Financiën\": \"Financiën\",\n",
    "    \"Begroting\": \"Begroting\",\n",
    "    \"Wetenschap en Innovatie\": \"Wetenschap en Innovatie\",\n",
    "    \"Toerisme\": \"Toerisme\",\n",
    "    \"Justitie en Handhaving\": \"Justitie en Handhaving\",\n",
    "    \"Brussel en de Vlaamse Rand\": \"Brussel en de Vlaamse Rand\",\n",
    "    \"Sport\": \"Sport\",\n",
    "    \"Onroerend erfgoed\": \"Onroerend erfgoed\",\n",
    "}\n",
    "\n",
    "# Nieuwe kolom aanmaken met samengevoegde thema's\n",
    "df[\"theme_merged\"] = df[\"theme\"].map(theme_merge_map).fillna(\"Onbekend\")\n",
    "\n"
   ]
  },
  {
   "cell_type": "code",
   "execution_count": 5,
   "id": "8a64f6f4",
   "metadata": {},
   "outputs": [
    {
     "name": "stderr",
     "output_type": "stream",
     "text": [
      "C:\\Users\\corne\\AppData\\Local\\Temp\\ipykernel_26824\\309580979.py:9: FutureWarning: A value is trying to be set on a copy of a DataFrame or Series through chained assignment using an inplace method.\n",
      "The behavior will change in pandas 3.0. This inplace method will never work because the intermediate object on which we are setting values always behaves as a copy.\n",
      "\n",
      "For example, when doing 'df[col].method(value, inplace=True)', try using 'df.method({col: value}, inplace=True)' or df[col] = df[col].method(value) instead, to perform the operation inplace on the original object.\n",
      "\n",
      "\n",
      "  df[\"context\"].fillna(\"\", inplace=True)\n"
     ]
    }
   ],
   "source": [
    "# Drop unnecessary columns\n",
    "if \"TXT_file_name\" in df.columns:\n",
    "    df = df.drop(columns=[\"TXT_file_name\"])\n",
    "    df = df.drop(columns=[\"statistical\"])\n",
    "\n",
    "\n",
    "# Handle missing values\n",
    "df = df.dropna(subset=[\"question\"])\n",
    "df[\"context\"].fillna(\"\", inplace=True)\n",
    "\n",
    "\n",
    "def clean_text(text):\n",
    "    text = re.sub(r'\\n', ' ', text)  # Replace newlines with spaces\n",
    "    text = re.sub(r'\\b[a-z]\\)\\s+', ' ', text)  # Remove patterns like 'a)', 'b)', etc.\n",
    "    text = re.sub(r'\\b\\d+\\.\\b', '', text)  # Remove patterns like '1.', '2.', etc.\n",
    "    text = re.sub(r'\\b\\d+\\)\\b', '', text)  # Remove patterns like '1)', '2)', etc.\n",
    "    text = re.sub(r'\\b[i]+[.)]\\b', '', text, flags=re.IGNORECASE)  # Remove patterns like 'i.', 'ii.', 'i)', etc.\n",
    "    text = re.sub(r'\\b\\d+[.)]\\s*', '', text) # Remove numeric list markers like 1., 2. or 1) 2)\n",
    "    text = re.sub(r'\\b[ivxlcdm]+\\s*[.)]\\s*', '', text, flags=re.IGNORECASE)# Remove roman numerals like i. ii. iii. or i) ii) iii)\n",
    "    text = re.sub(r'•', '', text)  # Remove bullet symbol\n",
    "    text = re.sub(r'\\s+', ' ', text).strip()  # Remove extra spaces and trim\n",
    "    return text\n",
    "\n",
    "#df[\"clean_text\"] = (df[\"context\"] + \" \" + df[\"question\"]).apply(clean_text)\n",
    "df[\"clean_text\"] = (df[\"question\"]).apply(clean_text)\n",
    "\n",
    "# Group by 'clean_text' and count unique themes\n",
    "duplicates_with_diff_themes = df.groupby(\"clean_text\")[\"theme_merged\"].nunique().reset_index()\n",
    "\n",
    "# Filter rows where the number of unique themes is greater than 1\n",
    "duplicates_with_diff_themes = duplicates_with_diff_themes[duplicates_with_diff_themes[\"theme_merged\"] > 1]\n",
    "\n",
    "# Merge back with the original dataframe to get all rows with these 'clean_text'\n",
    "filtered_df = df[df[\"clean_text\"].isin(duplicates_with_diff_themes[\"clean_text\"])]\n",
    "# Exclude rows with these 'clean_text' from the original dataframe\n",
    "df = df[~df[\"clean_text\"].isin(duplicates_with_diff_themes[\"clean_text\"])]\n",
    "\n",
    "\n",
    "# ✅ Now: drop rare themes using original theme names\n",
    "theme_counts = df[\"theme_merged\"].value_counts()\n",
    "valid_themes = theme_counts[theme_counts >= 2].index\n",
    "df = df[df[\"theme_merged\"].isin(valid_themes)]\n",
    "\n",
    "# Remove rows where the 'question' column has 5 or fewer words\n",
    "df = df[df['question'].apply(lambda x: len(str(x).split()) > 7)]\n",
    "\n"
   ]
  },
  {
   "cell_type": "code",
   "execution_count": 6,
   "id": "d2992cf2",
   "metadata": {},
   "outputs": [
    {
     "name": "stdout",
     "output_type": "stream",
     "text": [
      "29885\n"
     ]
    }
   ],
   "source": [
    "print(len(df))"
   ]
  },
  {
   "cell_type": "code",
   "execution_count": 7,
   "id": "16a73275",
   "metadata": {},
   "outputs": [
    {
     "name": "stdout",
     "output_type": "stream",
     "text": [
      "                              precision    recall  f1-score   support\n",
      "\n",
      "                   Begroting       0.85      0.62      0.72        56\n",
      "           Bestuur en Beleid       0.74      0.67      0.70       413\n",
      "  Brussel en de Vlaamse Rand       0.73      0.48      0.58        33\n",
      "     Cultuur en Communicatie       0.67      0.48      0.56       177\n",
      "          Economie en Arbeid       0.70      0.68      0.69       564\n",
      "                   Financiën       0.85      0.67      0.75       101\n",
      "       Internationaal Beleid       0.68      0.55      0.61       143\n",
      "      Justitie en Handhaving       0.73      0.49      0.58        68\n",
      "          Milieu en Landbouw       0.60      0.66      0.63       916\n",
      "Mobiliteit en Infrastructuur       0.73      0.83      0.78      1590\n",
      "                    Onbekend       0.64      0.58      0.61       462\n",
      "    Onderwijs en Samenleving       0.61      0.64      0.62       694\n",
      "           Onroerend erfgoed       0.84      0.41      0.55        63\n",
      "                       Sport       0.57      0.12      0.20        34\n",
      "                    Toerisme       0.79      0.65      0.71        88\n",
      "       Welzijn en Gezondheid       0.60      0.57      0.58       562\n",
      "     Wetenschap en Innovatie       0.33      0.08      0.12        13\n",
      "\n",
      "                    accuracy                           0.67      5977\n",
      "                   macro avg       0.69      0.54      0.59      5977\n",
      "                weighted avg       0.67      0.67      0.67      5977\n",
      "\n"
     ]
    }
   ],
   "source": [
    "import pandas as pd\n",
    "from sklearn.model_selection import train_test_split\n",
    "from sklearn.feature_extraction.text import TfidfVectorizer\n",
    "from sklearn.svm import LinearSVC\n",
    "from sklearn.pipeline import make_pipeline\n",
    "from sklearn.metrics import classification_report\n",
    "\n",
    "# Prepare features and labels\n",
    "X = df[\"clean_text\"]\n",
    "y = df[\"theme_merged\"]\n",
    "\n",
    "# Train-test split\n",
    "X_train, X_test, y_train, y_test = train_test_split(X, y, stratify=y, test_size=0.2, random_state=42)\n",
    "\n",
    "# TF-IDF + SVM pipeline\n",
    "svm_model = make_pipeline(\n",
    "    TfidfVectorizer(ngram_range=(1, 2), max_features=10000),            #maybe try binary=True also to see if it helps (Question Classification using Support Vector Machines wee sun lee)\n",
    "    LinearSVC()\n",
    ")\n",
    "\n",
    "# Train\n",
    "svm_model.fit(X_train, y_train)\n",
    "\n",
    "# Predict + Evaluate\n",
    "y_pred = svm_model.predict(X_test)\n",
    "print(classification_report(y_test, y_pred, zero_division=0))"
   ]
  }
 ],
 "metadata": {
  "kernelspec": {
   "display_name": "thesis-env",
   "language": "python",
   "name": "python3"
  },
  "language_info": {
   "codemirror_mode": {
    "name": "ipython",
    "version": 3
   },
   "file_extension": ".py",
   "mimetype": "text/x-python",
   "name": "python",
   "nbconvert_exporter": "python",
   "pygments_lexer": "ipython3",
   "version": "3.9.20"
  }
 },
 "nbformat": 4,
 "nbformat_minor": 5
}
