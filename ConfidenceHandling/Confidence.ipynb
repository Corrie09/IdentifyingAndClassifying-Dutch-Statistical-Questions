{
 "cells": [
  {
   "cell_type": "markdown",
   "metadata": {},
   "source": [
    "**Andere manier om te kijken naar evaluation, i.p.v terug te splitten en te predicten, nu opgeslagen predicition gebruiken**"
   ]
  },
  {
   "cell_type": "code",
   "execution_count": 1,
   "metadata": {},
   "outputs": [],
   "source": [
    "import pandas as pd\n",
    "import torch\n",
    "import numpy as np\n",
    "import torch.nn.functional as F\n",
    "import os\n",
    "import json  # Needed for loading the mappings\n",
    "\n",
    "# === Define path to the saved run ===\n",
    "save_path = r\"C:\\Users\\corne\\OneDrive - KU Leuven\\Thesis\\Working Code\\SAVED-Models\\GroNLP\\Run_2025-04-11_18-10\"\n",
    "\n",
    "# ✅ Load the saved test predictions \n",
    "df = pd.read_csv(os.path.join(save_path, \"test_predictions.csv\"))\n",
    "\n",
    "# ✅ Recreate logits tensor from the CSV\n",
    "logits = torch.tensor(df[\"logits\"].apply(eval).tolist())\n",
    "\n",
    "# ✅ Apply softmax to get prediction probabilities\n",
    "probabilities = F.softmax(logits, dim=1)\n",
    "\n",
    "# ✅ Extract raw values\n",
    "texts = df[\"text\"].tolist()\n",
    "true_labels_ids = df[\"true_label\"].tolist()\n",
    "predicted_label_ids = df[\"predicted_label\"].tolist()\n",
    "\n",
    "# ✅ Convert label IDs to themes using the mappings\n",
    "with open(os.path.join(save_path, \"label_mappings.json\"), \"r\", encoding=\"utf-8\") as f:\n",
    "    mappings = json.load(f)\n",
    "\n",
    "theme_to_id = mappings[\"theme_to_id\"]\n",
    "id_to_theme = {int(k): v for k, v in mappings[\"id_to_theme\"].items()}  # convert keys back to int\n"
   ]
  },
  {
   "cell_type": "markdown",
   "metadata": {},
   "source": [
    "**Unknowns**"
   ]
  },
  {
   "cell_type": "code",
   "execution_count": 2,
   "metadata": {},
   "outputs": [
    {
     "name": "stdout",
     "output_type": "stream",
     "text": [
      "🧠 Confidence: 1.00\n",
      "❌ True: Milieu en Landbouw | Predicted: Mobiliteit en Infrastructuur\n",
      "💬 Text: Welke timing stelt de minister voorop voor een beslissing over de vergunningsaanvraag voor de nieuwe stelplaats?\n",
      "--------------------------------------------------\n",
      "🧠 Confidence: 1.00\n",
      "❌ True: Milieu en Landbouw | Predicted: Mobiliteit en Infrastructuur\n",
      "💬 Text: Hoeveel van het aantal ongevallen gebeurden op het bedrijf, op het veld, op de weg, … in 2020, 2021, 2022 en 2023 tot op heden?\n",
      "--------------------------------------------------\n",
      "🧠 Confidence: 1.00\n",
      "❌ True: Brussel en de Vlaamse Rand | Predicted: Mobiliteit en Infrastructuur\n",
      "💬 Text: Welke projecten zijn al opgenomen in het doorkijkscenario naar het GIP 2023 en GIP 2024?\n",
      "--------------------------------------------------\n",
      "🧠 Confidence: 1.00\n",
      "❌ True: Onderwijs en Samenleving | Predicted: Mobiliteit en Infrastructuur\n",
      "💬 Text: Op welke manier worden chauffeurs opgeleid om ondersteuning en bijstand te geven Op welke manier worden chauffeurs tijdens hun diensten gecontroleerd op de mate waarin zij hulp bieden aan reizigers met een verminderde mobiliteit?\n",
      "--------------------------------------------------\n",
      "🧠 Confidence: 1.00\n",
      "❌ True: Onderwijs en Samenleving | Predicted: Mobiliteit en Infrastructuur\n",
      "💬 Text: Hoe is de financiering van het project Back on Track verlopen?\n",
      "--------------------------------------------------\n"
     ]
    }
   ],
   "source": [
    "# Find most confidently wrong predictions\n",
    "probs_np = probabilities.numpy()\n",
    "confidences = probs_np.max(axis=1)\n",
    "\n",
    "errors = []\n",
    "for i in range(len(texts)):\n",
    "    if true_labels_ids[i] != predicted_label_ids[i]:\n",
    "        errors.append((confidences[i], texts[i], id_to_theme[true_labels_ids[i]], id_to_theme[predicted_label_ids[i]]))\n",
    "\n",
    "# Sort by confidence descending\n",
    "errors.sort(reverse=True)\n",
    "\n",
    "# Show top 5\n",
    "for confidence, text, true_theme, predicted_theme in errors[:5]:\n",
    "    print(f\"🧠 Confidence: {confidence:.2f}\")\n",
    "    print(f\"❌ True: {true_theme} | Predicted: {predicted_theme}\")\n",
    "    print(f\"💬 Text: {text}\")\n",
    "    print(\"-\" * 50)\n"
   ]
  },
  {
   "cell_type": "code",
   "execution_count": 3,
   "metadata": {},
   "outputs": [
    {
     "name": "stdout",
     "output_type": "stream",
     "text": [
      "✅ Sorted report saved to: c:\\Users\\corne\\Documents\\thesis-question-classification\\ConfidenceHandling\\prediction_confidence_report.xlsx\n"
     ]
    }
   ],
   "source": [
    "true_labels = [id_to_theme[i] for i in true_labels_ids]\n",
    "predicted_labels = [id_to_theme[i] for i in predicted_label_ids]\n",
    "correct = [true == pred for true, pred in zip(true_labels, predicted_labels)]\n",
    "\n",
    "output_df = pd.DataFrame({\n",
    "    \"text\": texts,\n",
    "    \"true_label\": true_labels,\n",
    "    \"predicted_label\": predicted_labels,\n",
    "    \"is_correct\": correct,\n",
    "    \"confidence\": confidences\n",
    "})\n",
    "\n",
    "# ✅ Sort: incorrect first, then by highest confidence\n",
    "output_df = output_df.sort_values(by=[\"is_correct\", \"confidence\"], ascending=[True, False])\n",
    "\n",
    "# ✅ Optional: add ranking\n",
    "output_df[\"rank\"] = range(1, len(output_df) + 1)\n",
    "\n",
    "# ✅ Save to Excel\n",
    "excel_path = os.path.join(os.getcwd(), \"prediction_confidence_report.xlsx\")\n",
    "output_df.to_excel(excel_path, index=False)\n",
    "print(f\"✅ Sorted report saved to: {excel_path}\")\n"
   ]
  }
 ],
 "metadata": {
  "kernelspec": {
   "display_name": "thesis-env",
   "language": "python",
   "name": "python3"
  },
  "language_info": {
   "codemirror_mode": {
    "name": "ipython",
    "version": 3
   },
   "file_extension": ".py",
   "mimetype": "text/x-python",
   "name": "python",
   "nbconvert_exporter": "python",
   "pygments_lexer": "ipython3",
   "version": "3.9.20"
  }
 },
 "nbformat": 4,
 "nbformat_minor": 4
}
