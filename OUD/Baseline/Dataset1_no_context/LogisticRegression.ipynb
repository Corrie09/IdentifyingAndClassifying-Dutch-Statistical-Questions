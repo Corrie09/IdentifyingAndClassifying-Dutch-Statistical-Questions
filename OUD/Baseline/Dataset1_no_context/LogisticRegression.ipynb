{
 "cells": [
  {
   "cell_type": "markdown",
   "id": "7410b026-af28-4d8d-8409-1210b2f944d8",
   "metadata": {},
   "source": [
    "**Baseline classifier model. Op basis van TF-IDF Logistische regressie. Moet class imbalance nog aanpakken.**"
   ]
  },
  {
   "cell_type": "code",
   "execution_count": 1,
   "id": "efdbe6d2",
   "metadata": {},
   "outputs": [
    {
     "data": {
      "text/plain": [
       "'\"\\nwat gebeurd is: eerst GridSearchCV gerund en daarna gezien dat deze configuratie met l1 dus de beste is\"\\ndaarna dus de l1 configuratie gebruikt en de beste parameters nog aan het zoeken\"\\n'"
      ]
     },
     "execution_count": 1,
     "metadata": {},
     "output_type": "execute_result"
    }
   ],
   "source": [
    "\"\"\"\"\n",
    "wat gebeurd is: eerst GridSearchCV gerund en daarna gezien dat deze configuratie met l1 dus de beste is\"\n",
    "daarna dus de l1 configuratie gebruikt en de beste parameters nog aan het zoeken\"\n",
    "\"\"\"\n"
   ]
  },
  {
   "cell_type": "code",
   "execution_count": 2,
   "id": "38ea7584-6167-4c51-9619-0dfedff4f485",
   "metadata": {},
   "outputs": [],
   "source": [
    "import pandas as pd\n",
    "import re\n",
    "import matplotlib.pyplot as plt\n",
    "import seaborn as sns\n",
    "from collections import Counter\n",
    "from sklearn.feature_extraction.text import TfidfVectorizer\n",
    "from sklearn.model_selection import train_test_split \n",
    "from sklearn.linear_model import LogisticRegression\n",
    "from sklearn.metrics import classification_report, accuracy_score\n",
    "from sklearn.model_selection import GridSearchCV\n",
    "from sklearn.metrics import accuracy_score, precision_recall_fscore_support\n",
    "import pandas as pd\n",
    "\n",
    "\n",
    "import os"
   ]
  },
  {
   "cell_type": "code",
   "execution_count": 3,
   "id": "8cfc791d-5b32-4ae9-9440-c3b62b0aa114",
   "metadata": {},
   "outputs": [
    {
     "name": "stdout",
     "output_type": "stream",
     "text": [
      "                                             context  \\\n",
      "0  Ondertussen is de eerstelijnszone BruZEL al me...   \n",
      "1  Ondertussen is de eerstelijnszone BruZEL al me...   \n",
      "2  Ondertussen is de eerstelijnszone BruZEL al me...   \n",
      "3  Ondertussen is de eerstelijnszone BruZEL al me...   \n",
      "4  Ondertussen is de eerstelijnszone BruZEL al me...   \n",
      "\n",
      "                                            question  statistical  \\\n",
      "0  Zoals alle eerstelijnszones kreeg ook BruZEL h...            0   \n",
      "1                            a)Wat liep er moeilijk?            0   \n",
      "2  Met welke  uitdagingen  werd BruZEL het afgelo...            0   \n",
      "3      Hoe kunnen  die uitdagingen worden aangepakt?            0   \n",
      "4                                b)Wat liep er goed?            0   \n",
      "\n",
      "                        theme    file_name  \\\n",
      "0  Brussel en de Vlaamse Rand  1752898.txt   \n",
      "1  Brussel en de Vlaamse Rand  1752898.txt   \n",
      "2  Brussel en de Vlaamse Rand  1752898.txt   \n",
      "3  Brussel en de Vlaamse Rand  1752898.txt   \n",
      "4  Brussel en de Vlaamse Rand  1752898.txt   \n",
      "\n",
      "                                          clean_text  \n",
      "0  Zoals alle eerstelijnszones kreeg ook BruZEL h...  \n",
      "1                              Wat liep er moeilijk?  \n",
      "2  Met welke uitdagingen werd BruZEL het afgelope...  \n",
      "3       Hoe kunnen die uitdagingen worden aangepakt?  \n",
      "4                                  Wat liep er goed?  \n",
      "<class 'pandas.core.frame.DataFrame'>\n",
      "RangeIndex: 102013 entries, 0 to 102012\n",
      "Data columns (total 6 columns):\n",
      " #   Column       Non-Null Count   Dtype \n",
      "---  ------       --------------   ----- \n",
      " 0   context      101403 non-null  object\n",
      " 1   question     102013 non-null  object\n",
      " 2   statistical  102013 non-null  int64 \n",
      " 3   theme        102013 non-null  object\n",
      " 4   file_name    102013 non-null  object\n",
      " 5   clean_text   102013 non-null  object\n",
      "dtypes: int64(1), object(5)\n",
      "memory usage: 4.7+ MB\n",
      "None\n"
     ]
    }
   ],
   "source": [
    "# ✅ 1. Load & Preprocess Data\n",
    "script_dir = os.path.dirname(os.getcwd())# Ga één map omhoog om 'baseline' te verwijderen en ga naar 'Data'\n",
    "project_root = os.path.dirname(script_dir)  # Dit verwijdert 'baseline' van het script_dir\n",
    "data_folder = os.path.join(project_root, \"Data\")\n",
    "\n",
    "# 1. Dataset inladen\n",
    "file_path = os.path.join(data_folder, \"Grote_data_cleaned.xlsx\")\n",
    "df = pd.read_excel(file_path)\n",
    "\n",
    "#visualize the data\n",
    "print(df.head())\n",
    "print(df.info())"
   ]
  },
  {
   "cell_type": "code",
   "execution_count": 4,
   "id": "394b4a44",
   "metadata": {},
   "outputs": [
    {
     "name": "stdout",
     "output_type": "stream",
     "text": [
      "Number of rows after filtering: 101867\n"
     ]
    }
   ],
   "source": [
    "# Drop unnecessary columns\n",
    "# Drop unnecessary columns\n",
    "# Drop unnecessary columns\n",
    "columns_to_drop = [\"context\",\"file_name\",\"question\",\"statistical\"]\n",
    "df = df.drop(columns=[col for col in columns_to_drop if col in df.columns])\n",
    "\n",
    "# ✅ Drop rare themes (appearing < 2 times)\n",
    "theme_counts = df[\"theme\"].value_counts()\n",
    "valid_themes = theme_counts[theme_counts >= 100].index\n",
    "df = df[df[\"theme\"].isin(valid_themes)]\n",
    "\n",
    "\n",
    "\n",
    "# Amount of rows\n",
    "print(f\"Number of rows after filtering: {len(df)}\")"
   ]
  },
  {
   "cell_type": "code",
   "execution_count": 5,
   "id": "efbf57e8-8df5-44e7-9adf-d0dca0d2a095",
   "metadata": {},
   "outputs": [
    {
     "name": "stderr",
     "output_type": "stream",
     "text": [
      "[nltk_data] Downloading package stopwords to\n",
      "[nltk_data]     C:\\Users\\jefva\\AppData\\Roaming\\nltk_data...\n",
      "[nltk_data]   Package stopwords is already up-to-date!\n"
     ]
    }
   ],
   "source": [
    "from sklearn.model_selection import GridSearchCV\n",
    "from sklearn.naive_bayes import MultinomialNB\n",
    "from sklearn.pipeline import Pipeline\n",
    "from sklearn.feature_extraction.text import TfidfVectorizer\n",
    "from sklearn.metrics import classification_report, accuracy_score, precision_recall_fscore_support\n",
    "import pandas as pd\n",
    "from sklearn.model_selection import GridSearchCV\n",
    "from sklearn.preprocessing import LabelEncoder\n",
    "\n",
    "# 1. Encode labels\n",
    "le = LabelEncoder()\n",
    "y = le.fit_transform(df[\"theme\"])\n",
    "X = df[\"clean_text\"]  \n",
    "\n",
    "# 2. Train-test split\n",
    "X_train, X_test, y_train, y_test = train_test_split(\n",
    "    X, y, stratify=y, test_size=0.2, random_state=42\n",
    ")\n",
    "\n",
    "# 3. TF-IDF vectorization with Dutch stopwords and bigrams\n",
    "from nltk.corpus import stopwords\n",
    "import nltk\n",
    "nltk.download(\"stopwords\")\n",
    "\n",
    "dutch_stopwords = stopwords.words(\"dutch\")\n",
    "\n",
    "vectorizer = TfidfVectorizer(\n",
    "    ngram_range=(1, 2),\n",
    "    max_features=10000,\n",
    "    stop_words=dutch_stopwords\n",
    ")\n",
    "\n",
    "X_train_vec = vectorizer.fit_transform(X_train)\n",
    "X_test_vec = vectorizer.transform(X_test)"
   ]
  },
  {
   "cell_type": "code",
   "execution_count": 6,
   "id": "f7c7b2e3-b6b9-4ebc-85a9-5ed73d65e256",
   "metadata": {},
   "outputs": [
    {
     "name": "stdout",
     "output_type": "stream",
     "text": [
      "GridSearchCV wordt uitgevoerd... 🚀\n",
      "Fitting 5 folds for each of 1 candidates, totalling 5 fits\n",
      "Beste parameters: {'C': 10, 'class_weight': 'balanced', 'penalty': 'l2', 'solver': 'saga'}\n",
      "              precision    recall  f1-score   support\n",
      "\n",
      "           0       0.09      0.68      0.16        94\n",
      "           1       0.61      0.60      0.61       293\n",
      "           2       0.22      0.49      0.31       168\n",
      "           3       0.53      0.60      0.56       349\n",
      "           4       0.48      0.48      0.48       628\n",
      "           5       0.38      0.60      0.46       405\n",
      "           6       0.52      0.47      0.50       781\n",
      "           7       0.52      0.46      0.48       732\n",
      "           8       0.14      0.36      0.20        77\n",
      "           9       0.34      0.60      0.43       259\n",
      "          10       0.36      0.48      0.41       361\n",
      "          11       0.31      0.29      0.30       604\n",
      "          12       0.32      0.44      0.37       291\n",
      "          13       0.33      0.09      0.14        57\n",
      "          14       0.18      0.38      0.24       166\n",
      "          15       0.25      0.49      0.33       276\n",
      "          16       0.57      0.47      0.51      1079\n",
      "          17       0.46      0.44      0.45       691\n",
      "          18       0.58      0.26      0.36       122\n",
      "          19       0.90      0.61      0.72      5210\n",
      "          20       0.51      0.40      0.45      1667\n",
      "          21       0.75      0.45      0.56      1508\n",
      "          22       0.33      0.42      0.37       238\n",
      "          23       0.07      0.28      0.11        65\n",
      "          24       0.41      0.27      0.32       164\n",
      "          25       0.08      0.66      0.15        59\n",
      "          26       0.08      0.34      0.13       119\n",
      "          27       0.05      0.56      0.09        25\n",
      "          28       0.39      0.48      0.43       302\n",
      "          29       0.89      0.87      0.88        98\n",
      "          30       0.50      0.64      0.56       495\n",
      "          31       0.57      0.44      0.50      1355\n",
      "          32       0.65      0.58      0.62       909\n",
      "          33       0.50      0.02      0.03        65\n",
      "          34       0.48      0.50      0.49       662\n",
      "\n",
      "    accuracy                           0.50     20374\n",
      "   macro avg       0.41      0.46      0.39     20374\n",
      "weighted avg       0.60      0.50      0.54     20374\n",
      "\n",
      "      Metric     Score\n",
      "0   Accuracy  0.504221\n",
      "1  Precision  0.603110\n",
      "2     Recall  0.504221\n",
      "3         F1  0.535023\n"
     ]
    },
    {
     "name": "stderr",
     "output_type": "stream",
     "text": [
      "C:\\Users\\jefva\\anaconda3\\envs\\bert_env\\lib\\site-packages\\sklearn\\linear_model\\_sag.py:348: ConvergenceWarning: The max_iter was reached which means the coef_ did not converge\n",
      "  warnings.warn(\n"
     ]
    }
   ],
   "source": [
    "# ✅ Hyperparameter tuning met GridSearchCV\n",
    "# Conditional grid - alleen 'elasticnet' krijgt l1_ratio\n",
    "param_grid = {\n",
    "    'C': [10],  # Minder waarden testen\n",
    "    'penalty': ['l2'],  # ElasticNet weglaten als dat niet veel verschil maakt\n",
    "    'solver': ['saga'],\n",
    "    'class_weight': ['balanced']\n",
    "}\n",
    "\n",
    "grid = GridSearchCV(\n",
    "    LogisticRegression(max_iter=500),  # Model\n",
    "    param_grid,  # Zoekruimte\n",
    "    cv=5,  # 5-fold cross-validation\n",
    "    scoring=\"f1_weighted\",  # Optimaliseer voor F1-score\n",
    "    n_jobs=-1,  # Parallel berekenen\n",
    "    verbose=2  # ✅ Geeft gedetailleerde logs per iteratie\n",
    ")\n",
    "\n",
    "# 4. Fit (X_train must be raw text!)\n",
    "print(\"GridSearchCV wordt uitgevoerd... 🚀\")\n",
    "grid.fit(X_train_vec, y_train)\n",
    "\n",
    "# 5. Predict on test set\n",
    "best_model = grid.best_estimator_\n",
    "\n",
    "# 7. Predict + decode\n",
    "y_pred = best_model.predict(X_test_vec)\n",
    "y_test_labels = le.inverse_transform(y_test)\n",
    "y_pred_labels = le.inverse_transform(y_pred)\n",
    "\n",
    "\n",
    "\n",
    "print(f\"Beste parameters: {grid.best_params_}\")\n",
    "print(classification_report(y_test, y_pred, zero_division=0))\n",
    "\n",
    "# 7. Summary table\n",
    "accuracy = accuracy_score(y_test, y_pred)\n",
    "precision, recall, f1, _ = precision_recall_fscore_support(y_test, y_pred, average=\"weighted\", zero_division=1)\n",
    "\n",
    "baseline_results = pd.DataFrame({\n",
    "    \"Metric\": [\"Accuracy\", \"Precision\", \"Recall\", \"F1\"],\n",
    "    \"Score\": [accuracy, precision, recall, f1]\n",
    "})\n",
    "\n",
    "print(baseline_results)\n"
   ]
  },
  {
   "cell_type": "code",
   "execution_count": null,
   "id": "b663f8b1-55b7-4db8-8a76-487c75c74975",
   "metadata": {},
   "outputs": [],
   "source": []
  }
 ],
 "metadata": {
  "kernelspec": {
   "display_name": "Python 3 (ipykernel)",
   "language": "python",
   "name": "python3"
  },
  "language_info": {
   "codemirror_mode": {
    "name": "ipython",
    "version": 3
   },
   "file_extension": ".py",
   "mimetype": "text/x-python",
   "name": "python",
   "nbconvert_exporter": "python",
   "pygments_lexer": "ipython3",
   "version": "3.9.21"
  }
 },
 "nbformat": 4,
 "nbformat_minor": 5
}
