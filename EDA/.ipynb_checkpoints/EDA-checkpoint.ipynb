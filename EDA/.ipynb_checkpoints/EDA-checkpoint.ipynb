{
 "cells": [
  {
   "cell_type": "code",
   "execution_count": 1,
   "id": "08824db9-cdd6-4f9d-9e47-e63149abd244",
   "metadata": {},
   "outputs": [],
   "source": [
    "import pandas as pd\n",
    "import re\n",
    "import matplotlib.pyplot as plt\n",
    "import seaborn as sns\n",
    "from collections import Counter\n",
    "from sklearn.feature_extraction.text import TfidfVectorizer\n",
    "from sklearn.model_selection import train_test_split \n",
    "from sklearn.linear_model import LogisticRegression\n",
    "from sklearn.metrics import classification_report, accuracy_score\n",
    "from sklearn.model_selection import GridSearchCV\n",
    "from sklearn.metrics import accuracy_score, precision_recall_fscore_support\n",
    "import pandas as pd\n",
    "\n",
    "\n",
    "import os"
   ]
  },
  {
   "cell_type": "code",
   "execution_count": 2,
   "id": "ebed578a-0502-48d3-be61-5afb00ad2835",
   "metadata": {},
   "outputs": [],
   "source": [
    "script_dir = os.getcwd() # Ga één map omhoog om 'baseline' te verwijderen en ga naar 'Data'\n",
    "project_root = os.path.dirname(script_dir)  # Dit verwijdert 'baseline' van het script_dir\n",
    "data_folder = os.path.join(project_root, \"Data\")\n",
    "\n",
    "# 1. Dataset inladen\n",
    "file_path = os.path.join(data_folder, \"Grote_data.xlsx\")\n",
    "df = pd.read_excel(file_path)\n"
   ]
  },
  {
   "cell_type": "code",
   "execution_count": 3,
   "id": "a44cc6b6-15f6-4fef-8160-7af0d48b471c",
   "metadata": {},
   "outputs": [
    {
     "name": "stdout",
     "output_type": "stream",
     "text": [
      "Dataset Overview:\n",
      "<class 'pandas.core.frame.DataFrame'>\n",
      "RangeIndex: 26390 entries, 0 to 26389\n",
      "Data columns (total 5 columns):\n",
      " #   Column       Non-Null Count  Dtype \n",
      "---  ------       --------------  ----- \n",
      " 0   context      26381 non-null  object\n",
      " 1   question     26390 non-null  object\n",
      " 2   statistical  26390 non-null  int64 \n",
      " 3   theme        26390 non-null  object\n",
      " 4   file_name    26390 non-null  object\n",
      "dtypes: int64(1), object(4)\n",
      "memory usage: 1.0+ MB\n",
      "None\n",
      "        statistical\n",
      "count  26390.000000\n",
      "mean       0.291739\n",
      "std        0.454572\n",
      "min        0.000000\n",
      "25%        0.000000\n",
      "50%        0.000000\n",
      "75%        1.000000\n",
      "max        1.000000\n",
      "Missing Values:\n",
      "context        9\n",
      "question       0\n",
      "statistical    0\n",
      "theme          0\n",
      "file_name      0\n",
      "dtype: int64\n"
     ]
    }
   ],
   "source": [
    "import pandas as pd\n",
    "import matplotlib.pyplot as plt\n",
    "import seaborn as sns\n",
    "from sklearn.feature_extraction.text import TfidfVectorizer\n",
    "from sklearn.decomposition import PCA\n",
    "from wordcloud import WordCloud\n",
    "\n",
    "\n",
    "\n",
    "# Basic dataset overview\n",
    "print(\"Dataset Overview:\")\n",
    "print(df.info())\n",
    "print(df.describe())\n",
    "\n",
    "# Check for missing values\n",
    "print(\"Missing Values:\")\n",
    "print(df.isnull().sum())\n",
    "\n"
   ]
  },
  {
   "cell_type": "code",
   "execution_count": 5,
   "id": "90da98ab-7ed5-4995-b2e4-5a6911ef3327",
   "metadata": {},
   "outputs": [
    {
     "name": "stdout",
     "output_type": "stream",
     "text": [
      "Total amount of Questions:26390\n",
      "Unique Contexts: 9967\n",
      "Unique Questions: 19643\n",
      "Unique Context-Question Combinations: 21842\n"
     ]
    }
   ],
   "source": [
    "#\n",
    "\n",
    "total_questions = len(df)\n",
    "print(f\"Total amount of Questions:{total_questions}\")\n",
    "\n",
    "# Count unique context cells\n",
    "unique_contexts = df[\"context\"].nunique()\n",
    "print(f\"Unique Contexts: {unique_contexts}\")\n",
    "\n",
    "# Count unique questions\n",
    "unique_questions = df[\"question\"].nunique()\n",
    "print(f\"Unique Questions: {unique_questions}\")\n",
    "\n",
    "# Concatenate context and question and count unique combinations\n",
    "df[\"context_question\"] = df[\"context\"].astype(str) + \" \" + df[\"question\"].astype(str)\n",
    "unique_combinations = df[\"context_question\"].nunique()\n",
    "print(f\"Unique Context-Question Combinations: {unique_combinations}\")"
   ]
  },
  {
   "cell_type": "code",
   "execution_count": 6,
   "id": "c0c2b02e-1ec1-455b-8acc-04083e8ab13e",
   "metadata": {},
   "outputs": [
    {
     "name": "stdout",
     "output_type": "stream",
     "text": [
      "Saved duplicate context-question combinations to 'duplicate_context_questions.xlsx'\n"
     ]
    }
   ],
   "source": [
    "# Identify duplicate context-question combinations\n",
    "duplicates = df[df.duplicated(\"context_question\", keep=False)]\n",
    "\n",
    "# Save duplicates to an Excel file\n",
    "duplicates.to_excel(\"duplicate_context_questions.xlsx\", index=False)\n",
    "print(\"Saved duplicate context-question combinations to 'duplicate_context_questions.xlsx'\")"
   ]
  },
  {
   "cell_type": "markdown",
   "id": "b36faa2a-cba5-4420-9566-6f08d8456401",
   "metadata": {},
   "source": [
    "**Word- en tokencount nagaan voor Padding**"
   ]
  },
  {
   "cell_type": "markdown",
   "id": "043428e6-8d3c-4d11-8f8d-c3628de26282",
   "metadata": {},
   "source": [
    "Hiermee kunnen we de wordcount en tokencount van de Bert modelen bekijken. Dit kan interessant zijn voor padding; of dus als we een maximum aantal tokens willen meegeven in de modellen om sneller de modellen te trainen. "
   ]
  },
  {
   "cell_type": "code",
   "execution_count": 9,
   "id": "73dfdfd7-15fd-4502-856d-9ae3c814b579",
   "metadata": {},
   "outputs": [
    {
     "name": "stdout",
     "output_type": "stream",
     "text": [
      "Tokenizing with Gro-NLP...\n"
     ]
    },
    {
     "name": "stderr",
     "output_type": "stream",
     "text": [
      "Token indices sequence length is longer than the specified maximum sequence length for this model (654 > 512). Running this sequence through the model will result in indexing errors\n",
      "Token indices sequence length is longer than the specified maximum sequence length for this model (578 > 512). Running this sequence through the model will result in indexing errors\n"
     ]
    },
    {
     "name": "stdout",
     "output_type": "stream",
     "text": [
      "Most common token count for Gro-NLP: 61\n",
      "4 entries > 512 tokens for Gro-NLP (0.02%)\n",
      "\n",
      "Tokenizing with RobBERT...\n"
     ]
    },
    {
     "name": "stderr",
     "output_type": "stream",
     "text": [
      "Token indices sequence length is longer than the specified maximum sequence length for this model (728 > 512). Running this sequence through the model will result in indexing errors\n"
     ]
    },
    {
     "name": "stdout",
     "output_type": "stream",
     "text": [
      "Most common token count for RobBERT: 51\n",
      "4 entries > 512 tokens for RobBERT (0.02%)\n",
      "\n",
      "Tokenizing with MultiBERT...\n",
      "Most common token count for MultiBERT: 85\n",
      "6 entries > 512 tokens for MultiBERT (0.02%)\n",
      "\n",
      "Most common word count: 36\n",
      "\n"
     ]
    },
    {
     "data": {
      "image/png": "[encoded data removed]",
      "text/plain": [
       "<Figure size 2000x500 with 4 Axes>"
      ]
     },
     "metadata": {},
     "output_type": "display_data"
    }
   ],
   "source": [
    "\n",
    "# Word count distribution\n",
    "df[\"word_count\"] = df[\"context_question\"].apply(lambda x: len(str(x).split()))\n",
    "\n",
    "# Load tokenizers\n",
    "tokenizers = {\n",
    "    \"Gro-NLP\": AutoTokenizer.from_pretrained(\"GroNLP/bert-base-dutch-cased\"),\n",
    "    \"RobBERT\": AutoTokenizer.from_pretrained(\"pdelobelle/robbert-v2-dutch-base\"),\n",
    "    \"MultiBERT\": AutoTokenizer.from_pretrained(\"bert-base-multilingual-cased\")\n",
    "}\n",
    "\n",
    "# Token length distributions\n",
    "token_lengths = {\"Word Count\": df[\"word_count\"]}\n",
    "\n",
    "# Tokenize and store lengths for each tokenizer\n",
    "for name, tokenizer in tokenizers.items():\n",
    "    print(f\"Tokenizing with {name}...\")\n",
    "    df[f\"{name}_tokens\"] = df[\"context_question\"].apply(lambda x: len(tokenizer.encode(x, truncation=False)))\n",
    "    token_lengths[name] = df[f\"{name}_tokens\"]\n",
    "\n",
    "    # Most common length\n",
    "    most_common = df[f\"{name}_tokens\"].mode()[0]\n",
    "    print(f\"Most common token count for {name}: {most_common}\")\n",
    "\n",
    "    # Count entries > 512 tokens\n",
    "    over_limit = (df[f\"{name}_tokens\"] > 512).sum()\n",
    "    percentage = (over_limit / len(df)) * 100\n",
    "    print(f\"{over_limit} entries > 512 tokens for {name} ({percentage:.2f}%)\\n\")\n",
    "\n",
    "# Most common word count\n",
    "most_common_word_count = df[\"word_count\"].mode()[0]\n",
    "print(f\"Most common word count: {most_common_word_count}\\n\")\n",
    "\n",
    "# Plotting side-by-side histograms\n",
    "fig, axes = plt.subplots(1, 4, figsize=(20, 5), sharey=True)\n",
    "for ax, (name, lengths) in zip(axes, token_lengths.items()):\n",
    "    ax.hist(lengths, bins=50, alpha=0.7)\n",
    "    ax.set_title(name)\n",
    "    ax.set_xlabel(\"Length\")\n",
    "    ax.grid(True)\n",
    "axes[0].set_ylabel(\"Frequency\")\n",
    "plt.suptitle(\"Distribution of Question Lengths (Words and Tokens)\")\n",
    "plt.tight_layout(rect=[0, 0, 1, 0.95])\n",
    "plt.show()"
   ]
  },
  {
   "cell_type": "markdown",
   "id": "695e1ba1-eb4d-441c-8915-87215b53a432",
   "metadata": {},
   "source": [
    "Conclusie: De averages liggen niet te ver van elkaar. 0.02% wordt hoe dan ook getruncate, omdat bert max 512 tokens inneemt. 0.02 is zeer laag en verwaarloosbaar. We zouden kunnen padden, dan kunnen we grotere batch sizes gebruiken en sneller trainen. Alhoewel we nog geen problemen hebben gehad met runnnen en we de context belangrijk achten kunnen we best momenteel de token size op 512 houden. "
   ]
  },
  {
   "cell_type": "code",
   "execution_count": null,
   "id": "1ee85b63-cc0d-4557-bfae-e8226c1a1ee8",
   "metadata": {},
   "outputs": [],
   "source": []
  },
  {
   "cell_type": "code",
   "execution_count": null,
   "id": "075af3ad-9106-4384-845f-1d33224ccd89",
   "metadata": {},
   "outputs": [],
   "source": []
  }
 ],
 "metadata": {
  "kernelspec": {
   "display_name": "Python 3 (ipykernel)",
   "language": "python",
   "name": "python3"
  },
  "language_info": {
   "codemirror_mode": {
    "name": "ipython",
    "version": 3
   },
   "file_extension": ".py",
   "mimetype": "text/x-python",
   "name": "python",
   "nbconvert_exporter": "python",
   "pygments_lexer": "ipython3",
   "version": "3.9.21"
  }
 },
 "nbformat": 4,
 "nbformat_minor": 5
}
