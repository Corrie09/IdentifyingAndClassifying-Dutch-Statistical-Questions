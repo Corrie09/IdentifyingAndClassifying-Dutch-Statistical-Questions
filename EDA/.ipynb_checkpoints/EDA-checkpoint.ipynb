{
 "cells": [
  {
   "cell_type": "code",
   "execution_count": null,
   "id": "08824db9-cdd6-4f9d-9e47-e63149abd244",
   "metadata": {},
   "outputs": [],
   "source": [
    "import pandas as pd\n",
    "import re\n",
    "import matplotlib.pyplot as plt\n",
    "import seaborn as sns\n",
    "from collections import Counter\n",
    "from sklearn.feature_extraction.text import TfidfVectorizer\n",
    "from sklearn.model_selection import train_test_split \n",
    "from sklearn.linear_model import LogisticRegression\n",
    "from sklearn.metrics import classification_report, accuracy_score\n",
    "from sklearn.model_selection import GridSearchCV\n",
    "from sklearn.metrics import accuracy_score, precision_recall_fscore_support\n",
    "import pandas as pd\n",
    "\n",
    "\n",
    "import os"
   ]
  },
  {
   "cell_type": "code",
   "execution_count": null,
   "id": "ebed578a-0502-48d3-be61-5afb00ad2835",
   "metadata": {},
   "outputs": [],
   "source": [
    "script_dir = os.getcwd() # Ga één map omhoog om 'baseline' te verwijderen en ga naar 'Data'\n",
    "project_root = os.path.dirname(script_dir)  # Dit verwijdert 'baseline' van het script_dir\n",
    "data_folder = os.path.join(project_root, \"Data\")\n",
    "\n",
    "# 1. Dataset inladen\n",
    "file_path = os.path.join(data_folder, \"Grote_data.xlsx\")\n",
    "df = pd.read_excel(file_path)\n"
   ]
  },
  {
   "cell_type": "code",
   "execution_count": null,
   "id": "a44cc6b6-15f6-4fef-8160-7af0d48b471c",
   "metadata": {},
   "outputs": [],
   "source": [
    "import pandas as pd\n",
    "import matplotlib.pyplot as plt\n",
    "import seaborn as sns\n",
    "from sklearn.feature_extraction.text import TfidfVectorizer\n",
    "from sklearn.decomposition import PCA\n",
    "from wordcloud import WordCloud\n",
    "\n",
    "\n",
    "\n",
    "# Basic dataset overview\n",
    "print(\"Dataset Overview:\")\n",
    "print(df.info())\n",
    "print(df.describe())\n",
    "\n",
    "# Check for missing values\n",
    "print(\"Missing Values:\")\n",
    "print(df.isnull().sum())\n",
    "\n"
   ]
  },
  {
   "cell_type": "code",
   "execution_count": null,
   "id": "90da98ab-7ed5-4995-b2e4-5a6911ef3327",
   "metadata": {},
   "outputs": [],
   "source": [
    "#\n",
    "\n",
    "total_questions = len(df)\n",
    "print(f\"Total amount of Questions:{total_questions}\")\n",
    "\n",
    "# Count unique context cells\n",
    "unique_contexts = df[\"context\"].nunique()\n",
    "print(f\"Unique Contexts: {unique_contexts}\")\n",
    "\n",
    "# Count unique questions\n",
    "unique_questions = df[\"question\"].nunique()\n",
    "print(f\"Unique Questions: {unique_questions}\")\n",
    "\n",
    "# Concatenate context and question and count unique combinations\n",
    "df[\"context_question\"] = df[\"context\"].astype(str) + \" \" + df[\"question\"].astype(str)\n",
    "unique_combinations = df[\"context_question\"].nunique()\n",
    "print(f\"Unique Context-Question Combinations: {unique_combinations}\")"
   ]
  },
  {
   "cell_type": "code",
   "execution_count": null,
   "id": "c0c2b02e-1ec1-455b-8acc-04083e8ab13e",
   "metadata": {},
   "outputs": [],
   "source": []
  }
 ],
 "metadata": {
  "kernelspec": {
   "display_name": "Python 3 (ipykernel)",
   "language": "python",
   "name": "python3"
  },
  "language_info": {
   "codemirror_mode": {
    "name": "ipython",
    "version": 3
   },
   "file_extension": ".py",
   "mimetype": "text/x-python",
   "name": "python",
   "nbconvert_exporter": "python",
   "pygments_lexer": "ipython3",
   "version": "3.9.19"
  }
 },
 "nbformat": 4,
 "nbformat_minor": 5
}
