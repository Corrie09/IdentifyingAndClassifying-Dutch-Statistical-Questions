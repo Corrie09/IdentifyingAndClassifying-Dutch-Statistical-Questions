{
 "cells": [
  {
   "cell_type": "code",
   "execution_count": 2,
   "id": "08824db9-cdd6-4f9d-9e47-e63149abd244",
   "metadata": {},
   "outputs": [],
   "source": [
    "import pandas as pd\n",
    "import re\n",
    "import matplotlib.pyplot as plt\n",
    "import seaborn as sns\n",
    "from collections import Counter\n",
    "from sklearn.feature_extraction.text import TfidfVectorizer\n",
    "from sklearn.model_selection import train_test_split \n",
    "from sklearn.linear_model import LogisticRegression\n",
    "from sklearn.metrics import classification_report, accuracy_score\n",
    "from sklearn.model_selection import GridSearchCV\n",
    "from sklearn.metrics import accuracy_score, precision_recall_fscore_support\n",
    "import pandas as pd\n",
    "\n",
    "\n",
    "import os"
   ]
  },
  {
   "cell_type": "code",
   "execution_count": 3,
   "id": "ebed578a-0502-48d3-be61-5afb00ad2835",
   "metadata": {},
   "outputs": [],
   "source": [
    "script_dir = os.getcwd() # Ga één map omhoog om 'baseline' te verwijderen en ga naar 'Data'\n",
    "project_root = os.path.dirname(script_dir)  # Dit verwijdert 'baseline' van het script_dir\n",
    "data_folder = os.path.join(project_root, \"Data\")\n",
    "\n",
    "# 1. Dataset inladen\n",
    "file_path = os.path.join(data_folder, \"Grote_data.xlsx\")\n",
    "df = pd.read_excel(file_path)\n"
   ]
  },
  {
   "cell_type": "code",
   "execution_count": 4,
   "id": "a44cc6b6-15f6-4fef-8160-7af0d48b471c",
   "metadata": {},
   "outputs": [
    {
     "name": "stdout",
     "output_type": "stream",
     "text": [
      "Dataset Overview:\n",
      "<class 'pandas.core.frame.DataFrame'>\n",
      "RangeIndex: 26390 entries, 0 to 26389\n",
      "Data columns (total 5 columns):\n",
      " #   Column       Non-Null Count  Dtype \n",
      "---  ------       --------------  ----- \n",
      " 0   context      26381 non-null  object\n",
      " 1   question     26390 non-null  object\n",
      " 2   statistical  26390 non-null  int64 \n",
      " 3   theme        26390 non-null  object\n",
      " 4   file_name    26390 non-null  object\n",
      "dtypes: int64(1), object(4)\n",
      "memory usage: 1.0+ MB\n",
      "None\n",
      "        statistical\n",
      "count  26390.000000\n",
      "mean       0.291739\n",
      "std        0.454572\n",
      "min        0.000000\n",
      "25%        0.000000\n",
      "50%        0.000000\n",
      "75%        1.000000\n",
      "max        1.000000\n",
      "Missing Values:\n",
      "context        9\n",
      "question       0\n",
      "statistical    0\n",
      "theme          0\n",
      "file_name      0\n",
      "dtype: int64\n"
     ]
    }
   ],
   "source": [
    "import pandas as pd\n",
    "import matplotlib.pyplot as plt\n",
    "import seaborn as sns\n",
    "from sklearn.feature_extraction.text import TfidfVectorizer\n",
    "from sklearn.decomposition import PCA\n",
    "from wordcloud import WordCloud\n",
    "\n",
    "\n",
    "\n",
    "# Basic dataset overview\n",
    "print(\"Dataset Overview:\")\n",
    "print(df.info())\n",
    "print(df.describe())\n",
    "\n",
    "# Check for missing values\n",
    "print(\"Missing Values:\")\n",
    "print(df.isnull().sum())\n",
    "\n"
   ]
  },
  {
   "cell_type": "code",
   "execution_count": 5,
   "id": "90da98ab-7ed5-4995-b2e4-5a6911ef3327",
   "metadata": {},
   "outputs": [
    {
     "name": "stdout",
     "output_type": "stream",
     "text": [
      "Total amount of Questions:26390\n",
      "Unique Contexts: 9967\n",
      "Unique Questions: 19643\n",
      "Unique Context-Question Combinations: 21842\n"
     ]
    }
   ],
   "source": [
    "#\n",
    "\n",
    "total_questions = len(df)\n",
    "print(f\"Total amount of Questions:{total_questions}\")\n",
    "\n",
    "# Count unique context cells\n",
    "unique_contexts = df[\"context\"].nunique()\n",
    "print(f\"Unique Contexts: {unique_contexts}\")\n",
    "\n",
    "# Count unique questions\n",
    "unique_questions = df[\"question\"].nunique()\n",
    "print(f\"Unique Questions: {unique_questions}\")\n",
    "\n",
    "# Concatenate context and question and count unique combinations\n",
    "df[\"context_question\"] = df[\"context\"].astype(str) + \" \" + df[\"question\"].astype(str)\n",
    "unique_combinations = df[\"context_question\"].nunique()\n",
    "print(f\"Unique Context-Question Combinations: {unique_combinations}\")"
   ]
  },
  {
   "cell_type": "code",
   "execution_count": 6,
   "id": "c0c2b02e-1ec1-455b-8acc-04083e8ab13e",
   "metadata": {},
   "outputs": [
    {
     "name": "stdout",
     "output_type": "stream",
     "text": [
      "Saved duplicate context-question combinations to 'duplicate_context_questions.xlsx'\n"
     ]
    }
   ],
   "source": [
    "# Identify duplicate context-question combinations\n",
    "duplicates = df[df.duplicated(\"context_question\", keep=False)]\n",
    "\n",
    "# Save duplicates to an Excel file\n",
    "duplicates.to_excel(\"duplicate_context_questions.xlsx\", index=False)\n",
    "print(\"Saved duplicate context-question combinations to 'duplicate_context_questions.xlsx'\")"
   ]
  },
  {
   "cell_type": "code",
   "execution_count": null,
   "id": "73dfdfd7-15fd-4502-856d-9ae3c814b579",
   "metadata": {},
   "outputs": [],
   "source": []
  }
 ],
 "metadata": {
  "kernelspec": {
   "display_name": "Python 3 (ipykernel)",
   "language": "python",
   "name": "python3"
  },
  "language_info": {
   "codemirror_mode": {
    "name": "ipython",
    "version": 3
   },
   "file_extension": ".py",
   "mimetype": "text/x-python",
   "name": "python",
   "nbconvert_exporter": "python",
   "pygments_lexer": "ipython3",
   "version": "3.9.19"
  }
 },
 "nbformat": 4,
 "nbformat_minor": 5
}
