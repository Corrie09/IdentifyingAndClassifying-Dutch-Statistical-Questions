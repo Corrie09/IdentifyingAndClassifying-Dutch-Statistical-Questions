{
 "cells": [
  {
   "cell_type": "markdown",
   "id": "87520ac8-5ff9-4446-b2fb-820b6e2673ee",
   "metadata": {},
   "source": [
    "**Converteert de TXT files naar een excel waar de pdf link te zien is en metadata. .Gemaakt naar de excel die we doorgestuurd hebben gekregen van Statistiek Vlaanderen**"
   ]
  },
  {
   "cell_type": "code",
   "execution_count": 5,
   "id": "9b46b94e-5938-4078-845e-de083e9040ae",
   "metadata": {},
   "outputs": [
    {
     "name": "stdout",
     "output_type": "stream",
     "text": [
      "✅ Extraction complete! Data saved to parliamentary_questions.xlsx\n"
     ]
    }
   ],
   "source": [
    "import os\n",
    "import pandas as pd\n",
    "import re\n",
    "\n",
    "# Define the folder containing the TXT files\n",
    "folder_path = \"ScrapeddocumentsCorneel1202\"\n",
    "output_excel = \"parliamentary_questions.xlsx\"\n",
    "\n",
    "# List to store extracted data\n",
    "data_list = []\n",
    "\n",
    "# Regular expressions to match different fields\n",
    "date_pattern = re.compile(r\"datum:\\s*(.+)\")\n",
    "uppercase_name_pattern = re.compile(r\"^(van|aan)\\s+([A-Z\\s]+)$\")  # Matches \"Van NAME\" or \"Aan NAME\"\n",
    "\n",
    "# Loop through all TXT files in the folder\n",
    "for filename in os.listdir(folder_path):\n",
    "    if filename.endswith(\".txt\"):\n",
    "        file_path = os.path.join(folder_path, filename)\n",
    "\n",
    "        # Initialize placeholders for extracted data\n",
    "        title, pdf_link, thema_link, date, asker, answerer = \"\", \"\", \"\", \"\", \"\", \"\"\n",
    "        themas = []\n",
    "\n",
    "        # Read the file and extract data\n",
    "        with open(file_path, \"r\", encoding=\"utf-8\") as file:\n",
    "            lines = file.readlines()\n",
    "\n",
    "            for i, line in enumerate(lines):\n",
    "                line = line.strip()\n",
    "\n",
    "                # Extract title\n",
    "                if line.startswith(\"title:\"):\n",
    "                    title = line.replace(\"title:\", \"\").strip()\n",
    "\n",
    "                # Extract thema (multiple lines possible)\n",
    "                elif line.startswith(\"thema:\"):\n",
    "                    themas = []\n",
    "                    for j in range(i, len(lines)):\n",
    "                        thema_line = lines[j].strip()\n",
    "                        if thema_line and not thema_line.startswith((\"pdf link:\", \"thema link:\")):\n",
    "                            themas.append(thema_line.replace(\"thema:\", \"\").strip())\n",
    "                        else:\n",
    "                            break  # Stop if we reach another section\n",
    "\n",
    "                # Extract PDF link\n",
    "                elif line.startswith(\"pdf link:\"):\n",
    "                    pdf_link = line.replace(\"pdf link:\", \"\").strip()\n",
    "\n",
    "                # Extract Thema link\n",
    "                elif line.startswith(\"thema link:\"):\n",
    "                    thema_link = line.replace(\"thema link:\", \"\").strip()\n",
    "\n",
    "                # Extract date\n",
    "                elif \"datum:\" in line:\n",
    "                    match = date_pattern.search(line)\n",
    "                    if match:\n",
    "                        date = match.group(1).strip()\n",
    "\n",
    "                # Extract Question Asker (Vraagsteller) - must be uppercase after \"Van\"\n",
    "                elif line.startswith(\"van \"):\n",
    "                    match = uppercase_name_pattern.match(line)\n",
    "                    if match:\n",
    "                        asker = match.group(2).strip()\n",
    "\n",
    "                # Extract Question Answerer (Ondervraagde Minister) - must be uppercase after \"Aan\"\n",
    "                elif line.startswith(\"aan \"):\n",
    "                    match = uppercase_name_pattern.match(line)\n",
    "                    if match:\n",
    "                        answerer = match.group(2).strip()\n",
    "\n",
    "        # Store the extracted data in a list\n",
    "        data_list.append({\n",
    "            \"Title\": title,\n",
    "            \"Thema\": \", \".join(thematic for thematic in themas),  # Store multiple themas in one block\n",
    "            \"PDF Link\": pdf_link,\n",
    "            \"Thema Link\": thema_link,\n",
    "            \"Date\": date,\n",
    "            \"Question Asker\": asker,\n",
    "            \"Question Answerer\": answerer\n",
    "        })\n",
    "\n",
    "# Convert to DataFrame\n",
    "df = pd.DataFrame(data_list)\n",
    "\n",
    "# Save DataFrame to Excel\n",
    "df.to_excel(output_excel, index=False)\n",
    "\n",
    "print(f\"✅ Extraction complete! Data saved to {output_excel}\")\n"
   ]
  },
  {
   "cell_type": "code",
   "execution_count": null,
   "id": "c2dc7852-fbde-47c9-970f-e7a31e0ac200",
   "metadata": {},
   "outputs": [],
   "source": []
  }
 ],
 "metadata": {
  "kernelspec": {
   "display_name": "Python 3 (ipykernel)",
   "language": "python",
   "name": "python3"
  },
  "language_info": {
   "codemirror_mode": {
    "name": "ipython",
    "version": 3
   },
   "file_extension": ".py",
   "mimetype": "text/x-python",
   "name": "python",
   "nbconvert_exporter": "python",
   "pygments_lexer": "ipython3",
   "version": "3.9.19"
  }
 },
 "nbformat": 4,
 "nbformat_minor": 5
}
