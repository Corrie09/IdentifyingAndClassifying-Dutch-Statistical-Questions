{
 "cells": [
  {
   "cell_type": "markdown",
   "id": "02f802ec-808c-4c4e-b6da-7d0e38ab4de0",
   "metadata": {},
   "source": [
    "**Bert model op basis van Bert van Universiteit van Groningen. Context handling moet nog aangepast worden. Oversampling a.d.h.v de mediaan. dynamisch treshhold zoeken voor unknown.**"
   ]
  },
  {
   "cell_type": "code",
   "execution_count": 4,
   "id": "24278f74",
   "metadata": {},
   "outputs": [],
   "source": [
    "import pandas as pd\n",
    "import re\n",
    "import torch\n",
    "import numpy as np\n",
    "from torch.utils.data import Dataset, DataLoader\n",
    "from transformers import BertTokenizer, BertForSequenceClassification, Trainer, TrainingArguments, EarlyStoppingCallback\n",
    "from sklearn.model_selection import train_test_split\n",
    "from sklearn.metrics import accuracy_score, precision_recall_fscore_support\n",
    "from imblearn.over_sampling import RandomOverSampler\n",
    "import torch.nn.functional as F\n",
    "import os "
   ]
  },
  {
   "cell_type": "code",
   "execution_count": null,
   "id": "7ce9fa61",
   "metadata": {},
   "outputs": [],
   "source": [
    "# ✅ 1. Load & Preprocess Data\n",
    "script_dir = os.getcwd() # Ga één map omhoog om 'baseline' te verwijderen en ga naar 'Data'\n",
    "project_root = os.path.dirname(script_dir)  # Dit verwijdert 'baseline' van het script_dir\n",
    "data_folder = os.path.join(project_root, \"Data\")\n",
    "\n",
    "# 1. Dataset inladen\n",
    "file_path = os.path.join(data_folder, \"Kleine_data.xlsx\")\n",
    "df = pd.read_excel(file_path)"
   ]
  },
  {
   "cell_type": "code",
   "execution_count": 6,
   "id": "90b18e4e",
   "metadata": {},
   "outputs": [
    {
     "name": "stderr",
     "output_type": "stream",
     "text": [
      "C:\\Users\\corne\\AppData\\Local\\Temp\\ipykernel_11892\\3325372422.py:7: FutureWarning: A value is trying to be set on a copy of a DataFrame or Series through chained assignment using an inplace method.\n",
      "The behavior will change in pandas 3.0. This inplace method will never work because the intermediate object on which we are setting values always behaves as a copy.\n",
      "\n",
      "For example, when doing 'df[col].method(value, inplace=True)', try using 'df.method({col: value}, inplace=True)' or df[col] = df[col].method(value) instead, to perform the operation inplace on the original object.\n",
      "\n",
      "\n",
      "  df[\"context\"].fillna(\"\", inplace=True)\n"
     ]
    }
   ],
   "source": [
    "# Drop unnecessary columns\n",
    "if \"TXT_file_name\" in df.columns:\n",
    "    df = df.drop(columns=[\"TXT_file_name\"])\n",
    "\n",
    "# Handle missing values\n",
    "df = df.dropna(subset=[\"question\"])\n",
    "df[\"context\"].fillna(\"\", inplace=True)\n",
    "\n",
    "# ✅ 2. Define Dutch Stopwords & Cleaning Function\n",
    "dutch_stopwords = {\"de\", \"het\", \"een\", \"en\", \"van\", \"ik\", \"te\", \"dat\", \"die\", \"in\", \"je\", \"is\",\n",
    "                   \"niet\", \"op\", \"aan\", \"met\", \"als\", \"voor\", \"zijn\", \"was\", \"heeft\", \"heb\",\n",
    "                   \"om\", \"bij\", \"of\", \"geen\", \"dan\", \"toch\", \"maar\", \"wel\", \"meer\", \"doen\",\n",
    "                   \"ook\", \"kan\", \"mijn\", \"zo\", \"dus\", \"zou\", \"kunnen\"}\n",
    "\n",
    "def clean_text(text):\n",
    "    text = text.lower()\n",
    "    text = re.sub(r'\\n', ' ', text)\n",
    "    text = re.sub(r'\\b[a-z]\\)\\s+', ' ', text)  # Remove enumerations\n",
    "    text = re.sub(r'\\b\\d+\\.\\b', '', text)  # Remove numbered lists\n",
    "    text = re.sub(r'[^a-zA-Z0-9\\s]', '', text)  # Remove special characters\n",
    "    text = \" \".join([word for word in text.split() if word not in dutch_stopwords])\n",
    "    text = re.sub(r'\\s+', ' ', text).strip()\n",
    "    return text\n",
    "\n",
    "# ✅ 3. Merge Context + Question & Apply Cleaning\n",
    "df[\"clean_text\"] = (df[\"context\"] + \" \" + df[\"question\"]).apply(clean_text)\n",
    "\n",
    "# ✅ 4. Encode Theme Labels as Numbers\n",
    "unique_themes = list(df[\"theme\"].unique())\n",
    "theme_to_id = {theme: idx for idx, theme in enumerate(unique_themes)}\n",
    "id_to_theme = {idx: theme for theme, idx in theme_to_id.items()}  # ✅ Ensure mapping back from ID to theme\n",
    "df[\"theme_id\"] = df[\"theme\"].map(theme_to_id)\n"
   ]
  },
  {
   "cell_type": "code",
   "execution_count": 7,
   "id": "2626eb2d",
   "metadata": {},
   "outputs": [],
   "source": [
    "# ✅ 5. Fix Class Imbalance with Oversampling\n",
    "theme_counts = df[\"theme_id\"].value_counts()\n",
    "median_count = theme_counts.median()  # Set balancing threshold\n",
    "\n",
    "# Oversample rare themes\n",
    "sampling_strategy = {theme: int(median_count) for theme in theme_counts.index if theme_counts[theme] < median_count}\n",
    "ros = RandomOverSampler(sampling_strategy=sampling_strategy, random_state=42)\n",
    "\n",
    "X_resampled, y_resampled = ros.fit_resample(df[[\"clean_text\"]], df[\"theme_id\"])\n",
    "df_resampled = pd.DataFrame({\"clean_text\": X_resampled[\"clean_text\"], \"theme_id\": y_resampled})\n"
   ]
  },
  {
   "cell_type": "code",
   "execution_count": 8,
   "id": "b392dad6",
   "metadata": {},
   "outputs": [
    {
     "name": "stderr",
     "output_type": "stream",
     "text": [
      "c:\\Users\\corne\\anaconda3\\envs\\thesis-env\\lib\\site-packages\\huggingface_hub\\file_download.py:139: UserWarning: `huggingface_hub` cache-system uses symlinks by default to efficiently store duplicated files but your machine does not support them in C:\\Users\\corne\\.cache\\huggingface\\hub\\models--GroNLP--bert-base-dutch-cased. Caching files will still work but in a degraded version that might require more space on your disk. This warning can be disabled by setting the `HF_HUB_DISABLE_SYMLINKS_WARNING` environment variable. For more details, see https://huggingface.co/docs/huggingface_hub/how-to-cache#limitations.\n",
      "To support symlinks on Windows, you either need to activate Developer Mode or to run Python as an administrator. In order to activate developer mode, see this article: https://docs.microsoft.com/en-us/windows/apps/get-started/enable-your-device-for-development\n",
      "  warnings.warn(message)\n"
     ]
    }
   ],
   "source": [
    "# ✅ 6. Split Data into Train & Test\n",
    "train_texts, test_texts, train_labels, test_labels = train_test_split(\n",
    "    df_resampled[\"clean_text\"].tolist(), df_resampled[\"theme_id\"].tolist(), test_size=0.2, random_state=42, stratify=df_resampled[\"theme_id\"]\n",
    ")\n",
    "\n",
    "# ✅ 7. Load BERT Tokenizer & Define Dataset Class\n",
    "model_name = \"GroNLP/bert-base-dutch-cased\"\n",
    "tokenizer = BertTokenizer.from_pretrained(model_name)\n",
    "\n",
    "class ThemeDataset(Dataset):\n",
    "    def __init__(self, texts, labels, tokenizer, max_length=512):\n",
    "        self.texts = texts\n",
    "        self.labels = labels\n",
    "        self.tokenizer = tokenizer\n",
    "        self.max_length = max_length\n",
    "\n",
    "    def __len__(self):\n",
    "        return len(self.texts)\n",
    "\n",
    "    def __getitem__(self, idx):\n",
    "        encoding = self.tokenizer(\n",
    "            self.texts[idx], padding=\"max_length\", truncation=True, max_length=self.max_length, return_tensors=\"pt\"\n",
    "        )\n",
    "        encoding[\"labels\"] = torch.tensor(self.labels[idx])\n",
    "        return {key: val.squeeze(0) for key, val in encoding.items()}\n",
    "\n",
    "train_dataset = ThemeDataset(train_texts, train_labels, tokenizer)\n",
    "test_dataset = ThemeDataset(test_texts, test_labels, tokenizer)"
   ]
  },
  {
   "cell_type": "code",
   "execution_count": 9,
   "id": "4ebcd1e9",
   "metadata": {},
   "outputs": [
    {
     "name": "stderr",
     "output_type": "stream",
     "text": [
      "Some weights of BertForSequenceClassification were not initialized from the model checkpoint at GroNLP/bert-base-dutch-cased and are newly initialized: ['bert.pooler.dense.bias', 'bert.pooler.dense.weight', 'classifier.bias', 'classifier.weight']\n",
      "You should probably TRAIN this model on a down-stream task to be able to use it for predictions and inference.\n"
     ]
    }
   ],
   "source": [
    "# ✅ 8. Load BERT Model for Classification\n",
    "model = BertForSequenceClassification.from_pretrained(model_name, num_labels=len(unique_themes))"
   ]
  },
  {
   "cell_type": "code",
   "execution_count": 10,
   "id": "7423c6f4-03c2-42c7-93bd-ca27f376ee2b",
   "metadata": {},
   "outputs": [
    {
     "name": "stderr",
     "output_type": "stream",
     "text": [
      "c:\\Users\\corne\\anaconda3\\envs\\thesis-env\\lib\\site-packages\\transformers\\training_args.py:1568: FutureWarning: `evaluation_strategy` is deprecated and will be removed in version 4.46 of 🤗 Transformers. Use `eval_strategy` instead\n",
      "  warnings.warn(\n",
      "  1%|          | 11/888 [00:02<03:02,  4.81it/s]"
     ]
    },
    {
     "name": "stdout",
     "output_type": "stream",
     "text": [
      "{'loss': 3.4137, 'grad_norm': 9.560483932495117, 'learning_rate': 1.9774774774774777e-05, 'epoch': 0.09}\n"
     ]
    },
    {
     "name": "stderr",
     "output_type": "stream",
     "text": [
      "  2%|▏         | 21/888 [00:04<02:53,  4.98it/s]"
     ]
    },
    {
     "name": "stdout",
     "output_type": "stream",
     "text": [
      "{'loss': 3.2836, 'grad_norm': 7.2650909423828125, 'learning_rate': 1.9549549549549552e-05, 'epoch': 0.18}\n"
     ]
    },
    {
     "name": "stderr",
     "output_type": "stream",
     "text": [
      "  3%|▎         | 31/888 [00:06<02:49,  5.05it/s]"
     ]
    },
    {
     "name": "stdout",
     "output_type": "stream",
     "text": [
      "{'loss': 3.2288, 'grad_norm': 7.748692035675049, 'learning_rate': 1.9324324324324328e-05, 'epoch': 0.27}\n"
     ]
    },
    {
     "name": "stderr",
     "output_type": "stream",
     "text": [
      "  5%|▍         | 41/888 [00:08<02:47,  5.06it/s]"
     ]
    },
    {
     "name": "stdout",
     "output_type": "stream",
     "text": [
      "{'loss': 3.0332, 'grad_norm': 9.231000900268555, 'learning_rate': 1.90990990990991e-05, 'epoch': 0.36}\n"
     ]
    },
    {
     "name": "stderr",
     "output_type": "stream",
     "text": [
      "  6%|▌         | 51/888 [00:10<02:45,  5.06it/s]"
     ]
    },
    {
     "name": "stdout",
     "output_type": "stream",
     "text": [
      "{'loss': 3.2455, 'grad_norm': 9.354277610778809, 'learning_rate': 1.8873873873873875e-05, 'epoch': 0.45}\n"
     ]
    },
    {
     "name": "stderr",
     "output_type": "stream",
     "text": [
      "  7%|▋         | 61/888 [00:12<02:43,  5.06it/s]"
     ]
    },
    {
     "name": "stdout",
     "output_type": "stream",
     "text": [
      "{'loss': 3.0807, 'grad_norm': 8.996278762817383, 'learning_rate': 1.864864864864865e-05, 'epoch': 0.54}\n"
     ]
    },
    {
     "name": "stderr",
     "output_type": "stream",
     "text": [
      "  8%|▊         | 71/888 [00:14<02:43,  5.00it/s]"
     ]
    },
    {
     "name": "stdout",
     "output_type": "stream",
     "text": [
      "{'loss': 2.9751, 'grad_norm': 7.809335708618164, 'learning_rate': 1.8423423423423425e-05, 'epoch': 0.63}\n"
     ]
    },
    {
     "name": "stderr",
     "output_type": "stream",
     "text": [
      "  9%|▉         | 81/888 [00:16<02:41,  5.00it/s]"
     ]
    },
    {
     "name": "stdout",
     "output_type": "stream",
     "text": [
      "{'loss': 3.0049, 'grad_norm': 8.278496742248535, 'learning_rate': 1.81981981981982e-05, 'epoch': 0.72}\n"
     ]
    },
    {
     "name": "stderr",
     "output_type": "stream",
     "text": [
      " 10%|█         | 91/888 [00:18<02:36,  5.08it/s]"
     ]
    },
    {
     "name": "stdout",
     "output_type": "stream",
     "text": [
      "{'loss': 3.1448, 'grad_norm': 8.372248649597168, 'learning_rate': 1.7972972972972976e-05, 'epoch': 0.81}\n"
     ]
    },
    {
     "name": "stderr",
     "output_type": "stream",
     "text": [
      " 11%|█▏        | 101/888 [00:20<02:29,  5.28it/s]"
     ]
    },
    {
     "name": "stdout",
     "output_type": "stream",
     "text": [
      "{'loss': 2.9805, 'grad_norm': inf, 'learning_rate': 1.7770270270270273e-05, 'epoch': 0.9}\n"
     ]
    },
    {
     "name": "stderr",
     "output_type": "stream",
     "text": [
      " 12%|█▎        | 111/888 [00:22<02:16,  5.67it/s]"
     ]
    },
    {
     "name": "stdout",
     "output_type": "stream",
     "text": [
      "{'loss': 2.8923, 'grad_norm': 9.472393035888672, 'learning_rate': 1.7545045045045045e-05, 'epoch': 0.99}\n"
     ]
    },
    {
     "name": "stderr",
     "output_type": "stream",
     "text": [
      "                                                 \n",
      " 12%|█▎        | 111/888 [00:24<02:16,  5.67it/s]"
     ]
    },
    {
     "name": "stdout",
     "output_type": "stream",
     "text": [
      "{'eval_loss': 2.7799298763275146, 'eval_accuracy': 0.28054298642533937, 'eval_precision': 0.6815764012995846, 'eval_recall': 0.28054298642533937, 'eval_f1': 0.1403889132162377, 'eval_runtime': 1.3448, 'eval_samples_per_second': 164.336, 'eval_steps_per_second': 20.821, 'epoch': 1.0}\n"
     ]
    },
    {
     "name": "stderr",
     "output_type": "stream",
     "text": [
      " 14%|█▎        | 121/888 [00:27<02:58,  4.29it/s]"
     ]
    },
    {
     "name": "stdout",
     "output_type": "stream",
     "text": [
      "{'loss': 2.4505, 'grad_norm': 10.490522384643555, 'learning_rate': 1.731981981981982e-05, 'epoch': 1.08}\n"
     ]
    },
    {
     "name": "stderr",
     "output_type": "stream",
     "text": [
      " 15%|█▍        | 131/888 [00:29<02:30,  5.03it/s]"
     ]
    },
    {
     "name": "stdout",
     "output_type": "stream",
     "text": [
      "{'loss': 2.6866, 'grad_norm': 9.82182788848877, 'learning_rate': 1.7094594594594595e-05, 'epoch': 1.17}\n"
     ]
    },
    {
     "name": "stderr",
     "output_type": "stream",
     "text": [
      " 16%|█▌        | 141/888 [00:31<02:28,  5.02it/s]"
     ]
    },
    {
     "name": "stdout",
     "output_type": "stream",
     "text": [
      "{'loss': 2.6893, 'grad_norm': 17.06718635559082, 'learning_rate': 1.686936936936937e-05, 'epoch': 1.26}\n"
     ]
    },
    {
     "name": "stderr",
     "output_type": "stream",
     "text": [
      " 17%|█▋        | 151/888 [00:33<02:27,  4.98it/s]"
     ]
    },
    {
     "name": "stdout",
     "output_type": "stream",
     "text": [
      "{'loss': 2.6988, 'grad_norm': 10.995147705078125, 'learning_rate': 1.6644144144144146e-05, 'epoch': 1.35}\n"
     ]
    },
    {
     "name": "stderr",
     "output_type": "stream",
     "text": [
      " 18%|█▊        | 161/888 [00:35<02:24,  5.02it/s]"
     ]
    },
    {
     "name": "stdout",
     "output_type": "stream",
     "text": [
      "{'loss': 2.6421, 'grad_norm': 11.942017555236816, 'learning_rate': 1.641891891891892e-05, 'epoch': 1.44}\n"
     ]
    },
    {
     "name": "stderr",
     "output_type": "stream",
     "text": [
      " 19%|█▉        | 171/888 [00:37<02:22,  5.03it/s]"
     ]
    },
    {
     "name": "stdout",
     "output_type": "stream",
     "text": [
      "{'loss': 2.5624, 'grad_norm': 11.354497909545898, 'learning_rate': 1.6193693693693697e-05, 'epoch': 1.53}\n"
     ]
    },
    {
     "name": "stderr",
     "output_type": "stream",
     "text": [
      " 20%|██        | 181/888 [00:39<02:20,  5.04it/s]"
     ]
    },
    {
     "name": "stdout",
     "output_type": "stream",
     "text": [
      "{'loss': 2.6993, 'grad_norm': 10.81364631652832, 'learning_rate': 1.596846846846847e-05, 'epoch': 1.62}\n"
     ]
    },
    {
     "name": "stderr",
     "output_type": "stream",
     "text": [
      " 22%|██▏       | 191/888 [00:41<02:18,  5.02it/s]"
     ]
    },
    {
     "name": "stdout",
     "output_type": "stream",
     "text": [
      "{'loss': 2.3485, 'grad_norm': 15.5169095993042, 'learning_rate': 1.5743243243243244e-05, 'epoch': 1.71}\n"
     ]
    },
    {
     "name": "stderr",
     "output_type": "stream",
     "text": [
      " 23%|██▎       | 201/888 [00:43<02:16,  5.05it/s]"
     ]
    },
    {
     "name": "stdout",
     "output_type": "stream",
     "text": [
      "{'loss': 2.5876, 'grad_norm': 12.975022315979004, 'learning_rate': 1.551801801801802e-05, 'epoch': 1.8}\n"
     ]
    },
    {
     "name": "stderr",
     "output_type": "stream",
     "text": [
      " 24%|██▍       | 211/888 [00:45<02:14,  5.02it/s]"
     ]
    },
    {
     "name": "stdout",
     "output_type": "stream",
     "text": [
      "{'loss': 2.7638, 'grad_norm': 21.393234252929688, 'learning_rate': 1.5292792792792795e-05, 'epoch': 1.89}\n"
     ]
    },
    {
     "name": "stderr",
     "output_type": "stream",
     "text": [
      " 25%|██▍       | 221/888 [00:47<02:07,  5.25it/s]"
     ]
    },
    {
     "name": "stdout",
     "output_type": "stream",
     "text": [
      "{'loss': 2.4532, 'grad_norm': 12.167875289916992, 'learning_rate': 1.509009009009009e-05, 'epoch': 1.98}\n"
     ]
    },
    {
     "name": "stderr",
     "output_type": "stream",
     "text": [
      "                                                 \n",
      " 25%|██▌       | 222/888 [00:48<02:06,  5.25it/s]"
     ]
    },
    {
     "name": "stdout",
     "output_type": "stream",
     "text": [
      "{'eval_loss': 2.5010974407196045, 'eval_accuracy': 0.3936651583710407, 'eval_precision': 0.6624234699296836, 'eval_recall': 0.3936651583710407, 'eval_f1': 0.28088837760043167, 'eval_runtime': 1.3088, 'eval_samples_per_second': 168.855, 'eval_steps_per_second': 21.393, 'epoch': 2.0}\n"
     ]
    },
    {
     "name": "stderr",
     "output_type": "stream",
     "text": [
      " 26%|██▌       | 231/888 [00:51<02:40,  4.10it/s]"
     ]
    },
    {
     "name": "stdout",
     "output_type": "stream",
     "text": [
      "{'loss': 2.4419, 'grad_norm': 16.436553955078125, 'learning_rate': 1.4864864864864865e-05, 'epoch': 2.07}\n"
     ]
    },
    {
     "name": "stderr",
     "output_type": "stream",
     "text": [
      " 27%|██▋       | 241/888 [00:53<02:10,  4.97it/s]"
     ]
    },
    {
     "name": "stdout",
     "output_type": "stream",
     "text": [
      "{'loss': 2.1137, 'grad_norm': 13.992857933044434, 'learning_rate': 1.463963963963964e-05, 'epoch': 2.16}\n"
     ]
    },
    {
     "name": "stderr",
     "output_type": "stream",
     "text": [
      " 28%|██▊       | 251/888 [00:55<02:06,  5.03it/s]"
     ]
    },
    {
     "name": "stdout",
     "output_type": "stream",
     "text": [
      "{'loss': 2.0073, 'grad_norm': 11.199536323547363, 'learning_rate': 1.4414414414414416e-05, 'epoch': 2.25}\n"
     ]
    },
    {
     "name": "stderr",
     "output_type": "stream",
     "text": [
      " 29%|██▉       | 261/888 [00:57<02:04,  5.02it/s]"
     ]
    },
    {
     "name": "stdout",
     "output_type": "stream",
     "text": [
      "{'loss': 2.3178, 'grad_norm': 35.748558044433594, 'learning_rate': 1.4189189189189189e-05, 'epoch': 2.34}\n"
     ]
    },
    {
     "name": "stderr",
     "output_type": "stream",
     "text": [
      " 31%|███       | 271/888 [00:59<02:02,  5.02it/s]"
     ]
    },
    {
     "name": "stdout",
     "output_type": "stream",
     "text": [
      "{'loss': 2.3766, 'grad_norm': 15.3351469039917, 'learning_rate': 1.3963963963963964e-05, 'epoch': 2.43}\n"
     ]
    },
    {
     "name": "stderr",
     "output_type": "stream",
     "text": [
      " 32%|███▏      | 281/888 [01:01<02:00,  5.03it/s]"
     ]
    },
    {
     "name": "stdout",
     "output_type": "stream",
     "text": [
      "{'loss': 2.2607, 'grad_norm': 7.733134746551514, 'learning_rate': 1.373873873873874e-05, 'epoch': 2.52}\n"
     ]
    },
    {
     "name": "stderr",
     "output_type": "stream",
     "text": [
      " 33%|███▎      | 291/888 [01:03<01:59,  4.99it/s]"
     ]
    },
    {
     "name": "stdout",
     "output_type": "stream",
     "text": [
      "{'loss': 2.3146, 'grad_norm': 11.038461685180664, 'learning_rate': 1.3513513513513515e-05, 'epoch': 2.61}\n"
     ]
    },
    {
     "name": "stderr",
     "output_type": "stream",
     "text": [
      " 34%|███▍      | 301/888 [01:05<01:57,  5.00it/s]"
     ]
    },
    {
     "name": "stdout",
     "output_type": "stream",
     "text": [
      "{'loss': 2.1671, 'grad_norm': 12.866179466247559, 'learning_rate': 1.3288288288288289e-05, 'epoch': 2.7}\n"
     ]
    },
    {
     "name": "stderr",
     "output_type": "stream",
     "text": [
      " 35%|███▌      | 311/888 [01:07<01:55,  5.00it/s]"
     ]
    },
    {
     "name": "stdout",
     "output_type": "stream",
     "text": [
      "{'loss': 1.8711, 'grad_norm': 21.172481536865234, 'learning_rate': 1.3063063063063064e-05, 'epoch': 2.79}\n"
     ]
    },
    {
     "name": "stderr",
     "output_type": "stream",
     "text": [
      " 36%|███▌      | 321/888 [01:09<01:52,  5.05it/s]"
     ]
    },
    {
     "name": "stdout",
     "output_type": "stream",
     "text": [
      "{'loss': 2.1876, 'grad_norm': 33.96543884277344, 'learning_rate': 1.283783783783784e-05, 'epoch': 2.88}\n"
     ]
    },
    {
     "name": "stderr",
     "output_type": "stream",
     "text": [
      " 37%|███▋      | 331/888 [01:11<01:51,  5.00it/s]"
     ]
    },
    {
     "name": "stdout",
     "output_type": "stream",
     "text": [
      "{'loss': 2.2122, 'grad_norm': 22.248197555541992, 'learning_rate': 1.2612612612612613e-05, 'epoch': 2.97}\n"
     ]
    },
    {
     "name": "stderr",
     "output_type": "stream",
     "text": [
      "                                                 \n",
      " 38%|███▊      | 333/888 [01:13<01:50,  5.02it/s]"
     ]
    },
    {
     "name": "stdout",
     "output_type": "stream",
     "text": [
      "{'eval_loss': 2.201759099960327, 'eval_accuracy': 0.42081447963800905, 'eval_precision': 0.6141875754826817, 'eval_recall': 0.42081447963800905, 'eval_f1': 0.3404180191933927, 'eval_runtime': 1.3158, 'eval_samples_per_second': 167.952, 'eval_steps_per_second': 21.279, 'epoch': 3.0}\n"
     ]
    },
    {
     "name": "stderr",
     "output_type": "stream",
     "text": [
      " 38%|███▊      | 341/888 [01:16<02:21,  3.87it/s]"
     ]
    },
    {
     "name": "stdout",
     "output_type": "stream",
     "text": [
      "{'loss': 1.9958, 'grad_norm': 15.064179420471191, 'learning_rate': 1.2387387387387388e-05, 'epoch': 3.06}\n"
     ]
    },
    {
     "name": "stderr",
     "output_type": "stream",
     "text": [
      " 40%|███▉      | 351/888 [01:18<01:48,  4.96it/s]"
     ]
    },
    {
     "name": "stdout",
     "output_type": "stream",
     "text": [
      "{'loss': 2.0165, 'grad_norm': 15.19173812866211, 'learning_rate': 1.2162162162162164e-05, 'epoch': 3.15}\n"
     ]
    },
    {
     "name": "stderr",
     "output_type": "stream",
     "text": [
      " 41%|████      | 361/888 [01:20<01:45,  5.01it/s]"
     ]
    },
    {
     "name": "stdout",
     "output_type": "stream",
     "text": [
      "{'loss': 1.972, 'grad_norm': 13.232500076293945, 'learning_rate': 1.1936936936936939e-05, 'epoch': 3.24}\n"
     ]
    },
    {
     "name": "stderr",
     "output_type": "stream",
     "text": [
      " 42%|████▏     | 371/888 [01:22<01:43,  4.99it/s]"
     ]
    },
    {
     "name": "stdout",
     "output_type": "stream",
     "text": [
      "{'loss': 2.0637, 'grad_norm': 10.367274284362793, 'learning_rate': 1.1711711711711713e-05, 'epoch': 3.33}\n"
     ]
    },
    {
     "name": "stderr",
     "output_type": "stream",
     "text": [
      " 43%|████▎     | 381/888 [01:24<01:40,  5.06it/s]"
     ]
    },
    {
     "name": "stdout",
     "output_type": "stream",
     "text": [
      "{'loss': 1.6504, 'grad_norm': 10.753911972045898, 'learning_rate': 1.1486486486486488e-05, 'epoch': 3.42}\n"
     ]
    },
    {
     "name": "stderr",
     "output_type": "stream",
     "text": [
      " 44%|████▍     | 391/888 [01:26<01:39,  5.02it/s]"
     ]
    },
    {
     "name": "stdout",
     "output_type": "stream",
     "text": [
      "{'loss': 1.8658, 'grad_norm': 14.173243522644043, 'learning_rate': 1.1261261261261263e-05, 'epoch': 3.51}\n"
     ]
    },
    {
     "name": "stderr",
     "output_type": "stream",
     "text": [
      " 45%|████▌     | 401/888 [01:28<01:37,  5.00it/s]"
     ]
    },
    {
     "name": "stdout",
     "output_type": "stream",
     "text": [
      "{'loss': 1.5944, 'grad_norm': 10.18027114868164, 'learning_rate': 1.1036036036036037e-05, 'epoch': 3.6}\n"
     ]
    },
    {
     "name": "stderr",
     "output_type": "stream",
     "text": [
      " 46%|████▋     | 411/888 [01:30<01:35,  5.00it/s]"
     ]
    },
    {
     "name": "stdout",
     "output_type": "stream",
     "text": [
      "{'loss': 1.6761, 'grad_norm': 11.687400817871094, 'learning_rate': 1.0810810810810812e-05, 'epoch': 3.69}\n"
     ]
    },
    {
     "name": "stderr",
     "output_type": "stream",
     "text": [
      " 47%|████▋     | 421/888 [01:32<01:34,  4.97it/s]"
     ]
    },
    {
     "name": "stdout",
     "output_type": "stream",
     "text": [
      "{'loss': 1.745, 'grad_norm': 13.966676712036133, 'learning_rate': 1.0585585585585587e-05, 'epoch': 3.78}\n"
     ]
    },
    {
     "name": "stderr",
     "output_type": "stream",
     "text": [
      " 49%|████▊     | 431/888 [01:34<01:32,  4.96it/s]"
     ]
    },
    {
     "name": "stdout",
     "output_type": "stream",
     "text": [
      "{'loss': 1.5605, 'grad_norm': 13.04543685913086, 'learning_rate': 1.0360360360360363e-05, 'epoch': 3.87}\n"
     ]
    },
    {
     "name": "stderr",
     "output_type": "stream",
     "text": [
      " 50%|████▉     | 441/888 [01:36<01:28,  5.04it/s]"
     ]
    },
    {
     "name": "stdout",
     "output_type": "stream",
     "text": [
      "{'loss': 1.8348, 'grad_norm': 18.8745059967041, 'learning_rate': 1.0135135135135136e-05, 'epoch': 3.96}\n"
     ]
    },
    {
     "name": "stderr",
     "output_type": "stream",
     "text": [
      "                                                 \n",
      " 50%|█████     | 444/888 [01:37<01:27,  5.05it/s]"
     ]
    },
    {
     "name": "stdout",
     "output_type": "stream",
     "text": [
      "{'eval_loss': 2.058901071548462, 'eval_accuracy': 0.502262443438914, 'eval_precision': 0.6765397335533083, 'eval_recall': 0.502262443438914, 'eval_f1': 0.4514125441602426, 'eval_runtime': 1.3193, 'eval_samples_per_second': 167.515, 'eval_steps_per_second': 21.224, 'epoch': 4.0}\n"
     ]
    },
    {
     "name": "stderr",
     "output_type": "stream",
     "text": [
      " 51%|█████     | 451/888 [01:40<02:02,  3.56it/s]"
     ]
    },
    {
     "name": "stdout",
     "output_type": "stream",
     "text": [
      "{'loss': 1.5558, 'grad_norm': 13.978857040405273, 'learning_rate': 9.90990990990991e-06, 'epoch': 4.05}\n"
     ]
    },
    {
     "name": "stderr",
     "output_type": "stream",
     "text": [
      " 52%|█████▏    | 461/888 [01:42<01:26,  4.93it/s]"
     ]
    },
    {
     "name": "stdout",
     "output_type": "stream",
     "text": [
      "{'loss': 1.6008, 'grad_norm': 14.7079496383667, 'learning_rate': 9.684684684684685e-06, 'epoch': 4.14}\n"
     ]
    },
    {
     "name": "stderr",
     "output_type": "stream",
     "text": [
      " 53%|█████▎    | 471/888 [01:44<01:23,  4.98it/s]"
     ]
    },
    {
     "name": "stdout",
     "output_type": "stream",
     "text": [
      "{'loss': 1.6796, 'grad_norm': 10.6464204788208, 'learning_rate': 9.45945945945946e-06, 'epoch': 4.23}\n"
     ]
    },
    {
     "name": "stderr",
     "output_type": "stream",
     "text": [
      " 54%|█████▍    | 481/888 [01:46<01:21,  4.98it/s]"
     ]
    },
    {
     "name": "stdout",
     "output_type": "stream",
     "text": [
      "{'loss': 1.623, 'grad_norm': 12.35177993774414, 'learning_rate': 9.234234234234236e-06, 'epoch': 4.32}\n"
     ]
    },
    {
     "name": "stderr",
     "output_type": "stream",
     "text": [
      " 55%|█████▌    | 491/888 [01:48<01:20,  4.92it/s]"
     ]
    },
    {
     "name": "stdout",
     "output_type": "stream",
     "text": [
      "{'loss': 1.8132, 'grad_norm': 14.28562068939209, 'learning_rate': 9.00900900900901e-06, 'epoch': 4.41}\n"
     ]
    },
    {
     "name": "stderr",
     "output_type": "stream",
     "text": [
      " 56%|█████▋    | 501/888 [01:50<01:17,  4.98it/s]"
     ]
    },
    {
     "name": "stdout",
     "output_type": "stream",
     "text": [
      "{'loss': 1.7126, 'grad_norm': 22.212400436401367, 'learning_rate': 8.783783783783785e-06, 'epoch': 4.5}\n"
     ]
    },
    {
     "name": "stderr",
     "output_type": "stream",
     "text": [
      " 58%|█████▊    | 511/888 [01:52<01:15,  5.00it/s]"
     ]
    },
    {
     "name": "stdout",
     "output_type": "stream",
     "text": [
      "{'loss': 1.519, 'grad_norm': 12.756500244140625, 'learning_rate': 8.55855855855856e-06, 'epoch': 4.59}\n"
     ]
    },
    {
     "name": "stderr",
     "output_type": "stream",
     "text": [
      " 59%|█████▊    | 521/888 [01:54<01:13,  5.03it/s]"
     ]
    },
    {
     "name": "stdout",
     "output_type": "stream",
     "text": [
      "{'loss': 1.2023, 'grad_norm': 13.286203384399414, 'learning_rate': 8.333333333333334e-06, 'epoch': 4.68}\n"
     ]
    },
    {
     "name": "stderr",
     "output_type": "stream",
     "text": [
      " 60%|█████▉    | 531/888 [01:56<01:10,  5.03it/s]"
     ]
    },
    {
     "name": "stdout",
     "output_type": "stream",
     "text": [
      "{'loss': 1.338, 'grad_norm': 13.768352508544922, 'learning_rate': 8.108108108108109e-06, 'epoch': 4.77}\n"
     ]
    },
    {
     "name": "stderr",
     "output_type": "stream",
     "text": [
      " 61%|██████    | 541/888 [01:58<01:08,  5.07it/s]"
     ]
    },
    {
     "name": "stdout",
     "output_type": "stream",
     "text": [
      "{'loss': 1.4712, 'grad_norm': 11.225587844848633, 'learning_rate': 7.882882882882884e-06, 'epoch': 4.86}\n"
     ]
    },
    {
     "name": "stderr",
     "output_type": "stream",
     "text": [
      " 62%|██████▏   | 551/888 [02:00<01:07,  5.02it/s]"
     ]
    },
    {
     "name": "stdout",
     "output_type": "stream",
     "text": [
      "{'loss': 1.2925, 'grad_norm': 10.316128730773926, 'learning_rate': 7.657657657657658e-06, 'epoch': 4.95}\n"
     ]
    },
    {
     "name": "stderr",
     "output_type": "stream",
     "text": [
      "                                                 \n",
      " 62%|██████▎   | 555/888 [02:02<01:05,  5.08it/s]"
     ]
    },
    {
     "name": "stdout",
     "output_type": "stream",
     "text": [
      "{'eval_loss': 1.9557676315307617, 'eval_accuracy': 0.5113122171945701, 'eval_precision': 0.5936243323240228, 'eval_recall': 0.5113122171945701, 'eval_f1': 0.45891285274465654, 'eval_runtime': 1.3161, 'eval_samples_per_second': 167.918, 'eval_steps_per_second': 21.275, 'epoch': 5.0}\n"
     ]
    },
    {
     "name": "stderr",
     "output_type": "stream",
     "text": [
      " 63%|██████▎   | 561/888 [02:04<01:43,  3.17it/s]"
     ]
    },
    {
     "name": "stdout",
     "output_type": "stream",
     "text": [
      "{'loss': 1.6557, 'grad_norm': 11.825204849243164, 'learning_rate': 7.4324324324324324e-06, 'epoch': 5.05}\n"
     ]
    },
    {
     "name": "stderr",
     "output_type": "stream",
     "text": [
      " 64%|██████▍   | 571/888 [02:06<01:04,  4.93it/s]"
     ]
    },
    {
     "name": "stdout",
     "output_type": "stream",
     "text": [
      "{'loss': 1.4898, 'grad_norm': 16.921499252319336, 'learning_rate': 7.207207207207208e-06, 'epoch': 5.14}\n"
     ]
    },
    {
     "name": "stderr",
     "output_type": "stream",
     "text": [
      " 65%|██████▌   | 581/888 [02:08<01:00,  5.07it/s]"
     ]
    },
    {
     "name": "stdout",
     "output_type": "stream",
     "text": [
      "{'loss': 1.3824, 'grad_norm': 27.304174423217773, 'learning_rate': 6.981981981981982e-06, 'epoch': 5.23}\n"
     ]
    },
    {
     "name": "stderr",
     "output_type": "stream",
     "text": [
      " 67%|██████▋   | 591/888 [02:10<00:59,  4.96it/s]"
     ]
    },
    {
     "name": "stdout",
     "output_type": "stream",
     "text": [
      "{'loss': 1.3774, 'grad_norm': 13.633450508117676, 'learning_rate': 6.7567567567567575e-06, 'epoch': 5.32}\n"
     ]
    },
    {
     "name": "stderr",
     "output_type": "stream",
     "text": [
      " 68%|██████▊   | 601/888 [02:12<00:57,  5.00it/s]"
     ]
    },
    {
     "name": "stdout",
     "output_type": "stream",
     "text": [
      "{'loss': 1.3367, 'grad_norm': 10.672696113586426, 'learning_rate': 6.531531531531532e-06, 'epoch': 5.41}\n"
     ]
    },
    {
     "name": "stderr",
     "output_type": "stream",
     "text": [
      " 69%|██████▉   | 611/888 [02:14<00:54,  5.04it/s]"
     ]
    },
    {
     "name": "stdout",
     "output_type": "stream",
     "text": [
      "{'loss': 1.2597, 'grad_norm': 13.998297691345215, 'learning_rate': 6.3063063063063065e-06, 'epoch': 5.5}\n"
     ]
    },
    {
     "name": "stderr",
     "output_type": "stream",
     "text": [
      " 70%|██████▉   | 621/888 [02:16<00:54,  4.92it/s]"
     ]
    },
    {
     "name": "stdout",
     "output_type": "stream",
     "text": [
      "{'loss': 1.3114, 'grad_norm': 17.136730194091797, 'learning_rate': 6.081081081081082e-06, 'epoch': 5.59}\n"
     ]
    },
    {
     "name": "stderr",
     "output_type": "stream",
     "text": [
      " 71%|███████   | 631/888 [02:18<00:52,  4.90it/s]"
     ]
    },
    {
     "name": "stdout",
     "output_type": "stream",
     "text": [
      "{'loss': 1.283, 'grad_norm': 16.122434616088867, 'learning_rate': 5.855855855855856e-06, 'epoch': 5.68}\n"
     ]
    },
    {
     "name": "stderr",
     "output_type": "stream",
     "text": [
      " 72%|███████▏  | 641/888 [02:20<00:50,  4.94it/s]"
     ]
    },
    {
     "name": "stdout",
     "output_type": "stream",
     "text": [
      "{'loss': 1.1914, 'grad_norm': 11.070055961608887, 'learning_rate': 5.6306306306306316e-06, 'epoch': 5.77}\n"
     ]
    },
    {
     "name": "stderr",
     "output_type": "stream",
     "text": [
      " 73%|███████▎  | 651/888 [02:22<00:47,  5.04it/s]"
     ]
    },
    {
     "name": "stdout",
     "output_type": "stream",
     "text": [
      "{'loss': 1.224, 'grad_norm': 10.20557689666748, 'learning_rate': 5.405405405405406e-06, 'epoch': 5.86}\n"
     ]
    },
    {
     "name": "stderr",
     "output_type": "stream",
     "text": [
      " 74%|███████▍  | 661/888 [02:24<00:45,  4.94it/s]"
     ]
    },
    {
     "name": "stdout",
     "output_type": "stream",
     "text": [
      "{'loss': 1.0574, 'grad_norm': 12.481720924377441, 'learning_rate': 5.180180180180181e-06, 'epoch': 5.95}\n"
     ]
    },
    {
     "name": "stderr",
     "output_type": "stream",
     "text": [
      "                                                 \n",
      " 75%|███████▌  | 666/888 [02:27<00:44,  5.02it/s]"
     ]
    },
    {
     "name": "stdout",
     "output_type": "stream",
     "text": [
      "{'eval_loss': 1.9165605306625366, 'eval_accuracy': 0.5610859728506787, 'eval_precision': 0.6464758887835811, 'eval_recall': 0.5610859728506787, 'eval_f1': 0.50893840655914, 'eval_runtime': 1.3054, 'eval_samples_per_second': 169.291, 'eval_steps_per_second': 21.449, 'epoch': 6.0}\n"
     ]
    },
    {
     "name": "stderr",
     "output_type": "stream",
     "text": [
      " 76%|███████▌  | 671/888 [02:29<01:17,  2.81it/s]"
     ]
    },
    {
     "name": "stdout",
     "output_type": "stream",
     "text": [
      "{'loss': 1.5044, 'grad_norm': 17.743894577026367, 'learning_rate': 4.954954954954955e-06, 'epoch': 6.04}\n"
     ]
    },
    {
     "name": "stderr",
     "output_type": "stream",
     "text": [
      " 77%|███████▋  | 681/888 [02:31<00:42,  4.88it/s]"
     ]
    },
    {
     "name": "stdout",
     "output_type": "stream",
     "text": [
      "{'loss': 1.1538, 'grad_norm': 11.868515968322754, 'learning_rate': 4.72972972972973e-06, 'epoch': 6.13}\n"
     ]
    },
    {
     "name": "stderr",
     "output_type": "stream",
     "text": [
      " 78%|███████▊  | 691/888 [02:33<00:39,  5.00it/s]"
     ]
    },
    {
     "name": "stdout",
     "output_type": "stream",
     "text": [
      "{'loss': 1.2001, 'grad_norm': 10.117684364318848, 'learning_rate': 4.504504504504505e-06, 'epoch': 6.22}\n"
     ]
    },
    {
     "name": "stderr",
     "output_type": "stream",
     "text": [
      " 79%|███████▉  | 701/888 [02:35<00:37,  5.00it/s]"
     ]
    },
    {
     "name": "stdout",
     "output_type": "stream",
     "text": [
      "{'loss': 1.3073, 'grad_norm': 12.043928146362305, 'learning_rate': 4.27927927927928e-06, 'epoch': 6.31}\n"
     ]
    },
    {
     "name": "stderr",
     "output_type": "stream",
     "text": [
      " 80%|████████  | 711/888 [02:37<00:34,  5.06it/s]"
     ]
    },
    {
     "name": "stdout",
     "output_type": "stream",
     "text": [
      "{'loss': 1.1603, 'grad_norm': 11.655975341796875, 'learning_rate': 4.0540540540540545e-06, 'epoch': 6.4}\n"
     ]
    },
    {
     "name": "stderr",
     "output_type": "stream",
     "text": [
      " 81%|████████  | 721/888 [02:39<00:33,  5.04it/s]"
     ]
    },
    {
     "name": "stdout",
     "output_type": "stream",
     "text": [
      "{'loss': 1.0156, 'grad_norm': 10.83342170715332, 'learning_rate': 3.828828828828829e-06, 'epoch': 6.49}\n"
     ]
    },
    {
     "name": "stderr",
     "output_type": "stream",
     "text": [
      " 82%|████████▏ | 731/888 [02:41<00:31,  5.04it/s]"
     ]
    },
    {
     "name": "stdout",
     "output_type": "stream",
     "text": [
      "{'loss': 1.2261, 'grad_norm': 14.187174797058105, 'learning_rate': 3.603603603603604e-06, 'epoch': 6.58}\n"
     ]
    },
    {
     "name": "stderr",
     "output_type": "stream",
     "text": [
      " 83%|████████▎ | 741/888 [02:43<00:29,  5.00it/s]"
     ]
    },
    {
     "name": "stdout",
     "output_type": "stream",
     "text": [
      "{'loss': 1.0226, 'grad_norm': 14.238999366760254, 'learning_rate': 3.3783783783783788e-06, 'epoch': 6.67}\n"
     ]
    },
    {
     "name": "stderr",
     "output_type": "stream",
     "text": [
      " 85%|████████▍ | 751/888 [02:45<00:27,  4.99it/s]"
     ]
    },
    {
     "name": "stdout",
     "output_type": "stream",
     "text": [
      "{'loss': 1.2018, 'grad_norm': 10.478515625, 'learning_rate': 3.1531531531531532e-06, 'epoch': 6.76}\n"
     ]
    },
    {
     "name": "stderr",
     "output_type": "stream",
     "text": [
      " 86%|████████▌ | 761/888 [02:47<00:25,  4.98it/s]"
     ]
    },
    {
     "name": "stdout",
     "output_type": "stream",
     "text": [
      "{'loss': 1.2501, 'grad_norm': 17.016151428222656, 'learning_rate': 2.927927927927928e-06, 'epoch': 6.85}\n"
     ]
    },
    {
     "name": "stderr",
     "output_type": "stream",
     "text": [
      " 87%|████████▋ | 771/888 [02:49<00:23,  4.96it/s]"
     ]
    },
    {
     "name": "stdout",
     "output_type": "stream",
     "text": [
      "{'loss': 1.0461, 'grad_norm': 19.15512466430664, 'learning_rate': 2.702702702702703e-06, 'epoch': 6.94}\n"
     ]
    },
    {
     "name": "stderr",
     "output_type": "stream",
     "text": [
      "                                                 \n",
      " 88%|████████▊ | 777/888 [02:51<00:22,  5.02it/s]"
     ]
    },
    {
     "name": "stdout",
     "output_type": "stream",
     "text": [
      "{'eval_loss': 1.8731162548065186, 'eval_accuracy': 0.5565610859728507, 'eval_precision': 0.6356577811328943, 'eval_recall': 0.5565610859728507, 'eval_f1': 0.5043893091930375, 'eval_runtime': 1.3271, 'eval_samples_per_second': 166.527, 'eval_steps_per_second': 21.098, 'epoch': 7.0}\n"
     ]
    },
    {
     "name": "stderr",
     "output_type": "stream",
     "text": [
      " 88%|████████▊ | 781/888 [02:53<00:46,  2.31it/s]"
     ]
    },
    {
     "name": "stdout",
     "output_type": "stream",
     "text": [
      "{'loss': 1.0807, 'grad_norm': 13.341889381408691, 'learning_rate': 2.4774774774774775e-06, 'epoch': 7.03}\n"
     ]
    },
    {
     "name": "stderr",
     "output_type": "stream",
     "text": [
      " 89%|████████▉ | 791/888 [02:55<00:20,  4.80it/s]"
     ]
    },
    {
     "name": "stdout",
     "output_type": "stream",
     "text": [
      "{'loss': 0.948, 'grad_norm': 12.294206619262695, 'learning_rate': 2.2522522522522524e-06, 'epoch': 7.12}\n"
     ]
    },
    {
     "name": "stderr",
     "output_type": "stream",
     "text": [
      " 90%|█████████ | 801/888 [02:57<00:17,  5.01it/s]"
     ]
    },
    {
     "name": "stdout",
     "output_type": "stream",
     "text": [
      "{'loss': 1.089, 'grad_norm': 7.813608169555664, 'learning_rate': 2.0270270270270273e-06, 'epoch': 7.21}\n"
     ]
    },
    {
     "name": "stderr",
     "output_type": "stream",
     "text": [
      " 91%|█████████▏| 811/888 [02:59<00:15,  5.02it/s]"
     ]
    },
    {
     "name": "stdout",
     "output_type": "stream",
     "text": [
      "{'loss': 1.0556, 'grad_norm': 9.230856895446777, 'learning_rate': 1.801801801801802e-06, 'epoch': 7.3}\n"
     ]
    },
    {
     "name": "stderr",
     "output_type": "stream",
     "text": [
      " 92%|█████████▏| 821/888 [03:01<00:13,  5.00it/s]"
     ]
    },
    {
     "name": "stdout",
     "output_type": "stream",
     "text": [
      "{'loss': 1.0981, 'grad_norm': 13.10783863067627, 'learning_rate': 1.5765765765765766e-06, 'epoch': 7.39}\n"
     ]
    },
    {
     "name": "stderr",
     "output_type": "stream",
     "text": [
      " 94%|█████████▎| 831/888 [03:03<00:11,  5.02it/s]"
     ]
    },
    {
     "name": "stdout",
     "output_type": "stream",
     "text": [
      "{'loss': 0.8655, 'grad_norm': 9.612010955810547, 'learning_rate': 1.3513513513513515e-06, 'epoch': 7.48}\n"
     ]
    },
    {
     "name": "stderr",
     "output_type": "stream",
     "text": [
      " 95%|█████████▍| 841/888 [03:05<00:09,  5.00it/s]"
     ]
    },
    {
     "name": "stdout",
     "output_type": "stream",
     "text": [
      "{'loss': 1.067, 'grad_norm': 13.65968132019043, 'learning_rate': 1.1261261261261262e-06, 'epoch': 7.57}\n"
     ]
    },
    {
     "name": "stderr",
     "output_type": "stream",
     "text": [
      " 96%|█████████▌| 851/888 [03:07<00:07,  5.00it/s]"
     ]
    },
    {
     "name": "stdout",
     "output_type": "stream",
     "text": [
      "{'loss': 1.148, 'grad_norm': 13.369056701660156, 'learning_rate': 9.00900900900901e-07, 'epoch': 7.66}\n"
     ]
    },
    {
     "name": "stderr",
     "output_type": "stream",
     "text": [
      " 97%|█████████▋| 861/888 [03:09<00:05,  4.93it/s]"
     ]
    },
    {
     "name": "stdout",
     "output_type": "stream",
     "text": [
      "{'loss': 1.0614, 'grad_norm': 26.85370635986328, 'learning_rate': 6.756756756756758e-07, 'epoch': 7.75}\n"
     ]
    },
    {
     "name": "stderr",
     "output_type": "stream",
     "text": [
      " 98%|█████████▊| 871/888 [03:11<00:03,  4.96it/s]"
     ]
    },
    {
     "name": "stdout",
     "output_type": "stream",
     "text": [
      "{'loss': 1.0812, 'grad_norm': 13.855430603027344, 'learning_rate': 4.504504504504505e-07, 'epoch': 7.84}\n"
     ]
    },
    {
     "name": "stderr",
     "output_type": "stream",
     "text": [
      " 99%|█████████▉| 881/888 [03:13<00:01,  4.99it/s]"
     ]
    },
    {
     "name": "stdout",
     "output_type": "stream",
     "text": [
      "{'loss': 1.1845, 'grad_norm': 15.538398742675781, 'learning_rate': 2.2522522522522524e-07, 'epoch': 7.93}\n"
     ]
    },
    {
     "name": "stderr",
     "output_type": "stream",
     "text": [
      "                                                 \n",
      "100%|██████████| 888/888 [03:17<00:00,  4.97it/s]"
     ]
    },
    {
     "name": "stdout",
     "output_type": "stream",
     "text": [
      "{'eval_loss': 1.8650562763214111, 'eval_accuracy': 0.5746606334841629, 'eval_precision': 0.6636438251915591, 'eval_recall': 0.5746606334841629, 'eval_f1': 0.5271940668611655, 'eval_runtime': 1.3396, 'eval_samples_per_second': 164.969, 'eval_steps_per_second': 20.901, 'epoch': 8.0}\n"
     ]
    },
    {
     "name": "stderr",
     "output_type": "stream",
     "text": [
      "100%|██████████| 888/888 [03:19<00:00,  4.45it/s]"
     ]
    },
    {
     "name": "stdout",
     "output_type": "stream",
     "text": [
      "{'train_runtime': 199.4761, 'train_samples_per_second': 35.333, 'train_steps_per_second': 4.452, 'train_loss': 1.8497877421679798, 'epoch': 8.0}\n"
     ]
    },
    {
     "name": "stderr",
     "output_type": "stream",
     "text": [
      "\n"
     ]
    },
    {
     "data": {
      "text/plain": [
       "TrainOutput(global_step=888, training_loss=1.8497877421679798, metrics={'train_runtime': 199.4761, 'train_samples_per_second': 35.333, 'train_steps_per_second': 4.452, 'total_flos': 1854989467115520.0, 'train_loss': 1.8497877421679798, 'epoch': 8.0})"
      ]
     },
     "execution_count": 10,
     "metadata": {},
     "output_type": "execute_result"
    }
   ],
   "source": [
    "# ✅ 9. Define Training Arguments (With Early Stopping)\n",
    "training_args = TrainingArguments(\n",
    "    output_dir=\"./results\",\n",
    "    evaluation_strategy=\"epoch\",\n",
    "    save_strategy=\"epoch\",\n",
    "    learning_rate=2e-5,\n",
    "    per_device_train_batch_size=8,\n",
    "    per_device_eval_batch_size=8,\n",
    "    num_train_epochs=8,  # Increased epochs\n",
    "    weight_decay=0.01,\n",
    "    logging_dir=\"./logs\",\n",
    "    logging_steps=10,\n",
    "    fp16=True,\n",
    "    load_best_model_at_end=True\n",
    ")\n",
    "\n",
    "# ✅ 10. Define Metrics for Evaluation\n",
    "def compute_metrics(pred):\n",
    "    labels = pred.label_ids\n",
    "    preds = pred.predictions.argmax(-1)\n",
    "    acc = accuracy_score(labels, preds)\n",
    "    precision, recall, f1, _ = precision_recall_fscore_support(labels, preds, average=\"weighted\", zero_division=1)\n",
    "    return {\"accuracy\": acc, \"precision\": precision, \"recall\": recall, \"f1\": f1}\n",
    "\n",
    "# ✅ 11. Train Model with Early Stopping\n",
    "trainer = Trainer(\n",
    "    model=model,\n",
    "    args=training_args,\n",
    "    train_dataset=train_dataset,\n",
    "    eval_dataset=test_dataset,\n",
    "    compute_metrics=compute_metrics,\n",
    "    callbacks=[EarlyStoppingCallback(early_stopping_patience=2)]  # Stop if no improvement for 2 epochs\n",
    ")\n",
    "\n",
    "trainer.train()"
   ]
  },
  {
   "cell_type": "code",
   "execution_count": 11,
   "id": "f6e68926",
   "metadata": {},
   "outputs": [
    {
     "name": "stderr",
     "output_type": "stream",
     "text": [
      "100%|██████████| 28/28 [00:01<00:00, 22.79it/s]\n"
     ]
    },
    {
     "name": "stdout",
     "output_type": "stream",
     "text": [
      "Dynamic Threshold: 0.10449167340993881\n"
     ]
    }
   ],
   "source": [
    "# ✅ 13. Make Predictions (With Dynamic Confidence Threshold & Short Question Handling)\n",
    "predictions = trainer.predict(test_dataset)\n",
    "probabilities = F.softmax(torch.tensor(predictions.predictions), dim=1)\n",
    "\n",
    "# ✅ Dynamically Adjust the Confidence Threshold (5th Percentile)\n",
    "confidence_values = torch.max(probabilities, dim=1)[0].tolist()\n",
    "dynamic_threshold = np.percentile(confidence_values, 5)  # ✅ Set threshold at the 5th percentile\n",
    "print(f\"Dynamic Threshold: {dynamic_threshold}\")  # ✅ Print the new threshold\n",
    "\n",
    "# ✅ Predict Themes with \"Unknown\" for Unclear Questions\n",
    "predicted_labels = []\n",
    "for i in range(len(probabilities)):\n",
    "    max_prob = torch.max(probabilities[i]).item()\n",
    "    pred_label = torch.argmax(probabilities[i]).item()\n",
    "    question_text = test_texts[i]\n",
    "\n",
    "    # ✅ If question is too short and lacks context, assign \"Unknown\"\n",
    "    if len(question_text.split()) < 5:\n",
    "        predicted_labels.append(\"Unknown\")\n",
    "    elif max_prob < dynamic_threshold:\n",
    "        predicted_labels.append(\"Unknown\")  # ✅ Filter out low-confidence predictions\n",
    "    else:\n",
    "        predicted_labels.append(id_to_theme[pred_label])  # ✅ Assign label\n"
   ]
  },
  {
   "cell_type": "code",
   "execution_count": null,
   "id": "023fc296",
   "metadata": {},
   "outputs": [
    {
     "name": "stdout",
     "output_type": "stream",
     "text": [
      "✅ Model Training Completed! Predictions saved.\n"
     ]
    }
   ],
   "source": [
    "# ✅ 14. Save Predictions & CLS Embeddings to Excel\n",
    "output_df = pd.DataFrame({\n",
    "    \"Text\": test_texts,\n",
    "    \"True_Theme\": [id_to_theme[label] for label in test_labels],\n",
    "    \"Predicted_Theme\": predicted_labels\n",
    "})\n",
    "\n",
    "\n",
    "output_df.to_excel(\"BertGroNLP-theme_classification.xlsx\", index=False)\n",
    "print(\"✅ Model Training Completed! Predictions saved.\")"
   ]
  },
  {
   "cell_type": "code",
   "execution_count": null,
   "id": "ba3a9947-7d3f-4a26-bd4e-87f4b0659dae",
   "metadata": {},
   "outputs": [
    {
     "data": {
      "image/png": "[encoded data removed]",
      "text/plain": [
       "<Figure size 1200x600 with 1 Axes>"
      ]
     },
     "metadata": {},
     "output_type": "display_data"
    }
   ],
   "source": [
    "# ✅ 15. Visualize Distribution of Predicted Themes\n",
    "\n",
    "import matplotlib.pyplot as plt\n",
    "import seaborn as sns\n",
    "import pandas as pd\n",
    "\n",
    "# ✅ Replace this with your actual predictions DataFrame\n",
    "# Example: If your predictions are stored in a variable `predicted_labels`\n",
    "# Convert it into a DataFrame for visualization\n",
    "df = pd.DataFrame({\"Predicted_Theme\": predicted_labels})\n",
    "\n",
    "# ✅ Count occurrences of each predicted theme\n",
    "label_counts = df[\"Predicted_Theme\"].value_counts()\n",
    "\n",
    "# ✅ Create the bar plot\n",
    "plt.figure(figsize=(12, 6))\n",
    "sns.barplot(x=label_counts.index, y=label_counts.values)\n",
    "plt.xticks(rotation=90)\n",
    "plt.xlabel(\"Predicted Theme\")\n",
    "plt.ylabel(\"Count\")\n",
    "plt.title(\"Distribution of Assigned Labels in Model Predictions\")\n",
    "plt.show()\n"
   ]
  }
 ],
 "metadata": {
  "kernelspec": {
   "display_name": "thesis-env",
   "language": "python",
   "name": "python3"
  },
  "language_info": {
   "codemirror_mode": {
    "name": "ipython",
    "version": 3
   },
   "file_extension": ".py",
   "mimetype": "text/x-python",
   "name": "python",
   "nbconvert_exporter": "python",
   "pygments_lexer": "ipython3",
   "version": "3.9.20"
  }
 },
 "nbformat": 4,
 "nbformat_minor": 5
}
