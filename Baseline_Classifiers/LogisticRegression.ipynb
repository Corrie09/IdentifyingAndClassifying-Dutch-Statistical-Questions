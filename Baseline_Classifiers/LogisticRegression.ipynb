{
 "cells": [
  {
   "cell_type": "markdown",
   "id": "7410b026-af28-4d8d-8409-1210b2f944d8",
   "metadata": {},
   "source": [
    "**Baseline classifier model. Op basis van TF-IDF Logistische regressie. Moet class imbalance nog aanpakken.**"
   ]
  },
  {
   "cell_type": "code",
   "execution_count": null,
   "id": "efdbe6d2",
   "metadata": {},
   "outputs": [],
   "source": [
    "\"\"\"\"\n",
    "wat gebeurd is: eerst GridSearchCV gerund en daarna gezien dat deze configuratie met l1 dus de beste is\"\n",
    "daarna dus de l1 configuratie gebruikt en de beste parameters nog aan het zoeken\"\n",
    "\"\"\"\n"
   ]
  },
  {
   "cell_type": "code",
   "execution_count": 20,
   "id": "38ea7584-6167-4c51-9619-0dfedff4f485",
   "metadata": {},
   "outputs": [],
   "source": [
    "import pandas as pd\n",
    "import re\n",
    "import matplotlib.pyplot as plt\n",
    "import seaborn as sns\n",
    "from collections import Counter\n",
    "from sklearn.feature_extraction.text import TfidfVectorizer\n",
    "from sklearn.model_selection import train_test_split \n",
    "from sklearn.linear_model import LogisticRegression\n",
    "from sklearn.metrics import classification_report, accuracy_score\n",
    "from sklearn.model_selection import GridSearchCV\n",
    "from sklearn.metrics import accuracy_score, precision_recall_fscore_support\n",
    "import pandas as pd\n",
    "\n",
    "\n",
    "import os"
   ]
  },
  {
   "cell_type": "code",
   "execution_count": 21,
   "id": "8cfc791d-5b32-4ae9-9440-c3b62b0aa114",
   "metadata": {},
   "outputs": [
    {
     "name": "stdout",
     "output_type": "stream",
     "text": [
      "Dataset overzicht:\n",
      "<class 'pandas.core.frame.DataFrame'>\n",
      "RangeIndex: 26390 entries, 0 to 26389\n",
      "Data columns (total 5 columns):\n",
      " #   Column       Non-Null Count  Dtype \n",
      "---  ------       --------------  ----- \n",
      " 0   context      26381 non-null  object\n",
      " 1   question     26390 non-null  object\n",
      " 2   statistical  26390 non-null  int64 \n",
      " 3   theme        26390 non-null  object\n",
      " 4   file_name    26390 non-null  object\n",
      "dtypes: int64(1), object(4)\n",
      "memory usage: 1.0+ MB\n",
      "None\n",
      "                                             context  \\\n",
      "0  Ambtenaren Vlaamse overheid  -  HoofddoekWat h...   \n",
      "1  Ambtenaren Vlaamse overheid  -  HoofddoekWat h...   \n",
      "2  Ambtenaren Vlaamse overheid  -  HoofddoekWat h...   \n",
      "3  Ambtenaren Vlaamse overheid  -  HoofddoekWat h...   \n",
      "4  Ambtenaren Vlaamse overheid  -  HoofddoekWat h...   \n",
      "\n",
      "                                            question  statistical  \\\n",
      "0  Kan de minister voor elke instelling (departem...            0   \n",
      "1  a) Indien er geen richtlijnen bestaan, hoe wor...            0   \n",
      "2  b) Is het een ambtenaar die in contact komt me...            0   \n",
      "3  c) Is het een ambtenaar die niet in contact ko...            0   \n",
      "4  d) Dringt de minister er bij zijn/haar collega...            0   \n",
      "\n",
      "                   theme    file_name  \n",
      "0  Vlaamse administratie  2001516.txt  \n",
      "1  Vlaamse administratie  2001516.txt  \n",
      "2  Vlaamse administratie  2001516.txt  \n",
      "3  Vlaamse administratie  2001516.txt  \n",
      "4  Vlaamse administratie  2001516.txt  \n"
     ]
    }
   ],
   "source": [
    "script_dir = os.getcwd() # Ga één map omhoog om 'baseline' te verwijderen en ga naar 'Data'\n",
    "project_root = os.path.dirname(script_dir)  # Dit verwijdert 'baseline' van het script_dir\n",
    "data_folder = os.path.join(project_root, \"Data\")\n",
    "\n",
    "# 1. Dataset inladen\n",
    "file_path = os.path.join(data_folder, \"Grote_data.xlsx\")\n",
    "df = pd.read_excel(file_path)\n",
    "\n",
    "# 2. Data verkennen\n",
    "print(\"Dataset overzicht:\")\n",
    "print(df.info())\n",
    "print(df.head())"
   ]
  },
  {
   "cell_type": "code",
   "execution_count": 22,
   "id": "53e2012a-31c7-4c74-b50a-09830bd90689",
   "metadata": {},
   "outputs": [
    {
     "name": "stderr",
     "output_type": "stream",
     "text": [
      "C:\\Users\\corne\\AppData\\Local\\Temp\\ipykernel_7640\\254478967.py:3: FutureWarning: A value is trying to be set on a copy of a DataFrame or Series through chained assignment using an inplace method.\n",
      "The behavior will change in pandas 3.0. This inplace method will never work because the intermediate object on which we are setting values always behaves as a copy.\n",
      "\n",
      "For example, when doing 'df[col].method(value, inplace=True)', try using 'df.method({col: value}, inplace=True)' or df[col] = df[col].method(value) instead, to perform the operation inplace on the original object.\n",
      "\n",
      "\n",
      "  df[\"context\"].fillna(\"\", inplace=True)  # Vul missende context met lege string\n"
     ]
    }
   ],
   "source": [
    "# 3. Missende waarden aanpakken\n",
    "df = df.dropna(subset=[\"question\"])  # Verwijder lege vragen\n",
    "df[\"context\"].fillna(\"\", inplace=True)  # Vul missende context met lege string\n",
    "\n",
    "# 4. Stopwoordenlijst (Nederlands, handmatig)\n",
    "dutch_stopwords = {\"de\", \"het\", \"een\", \"en\", \"van\", \"ik\", \"te\", \"dat\", \"die\", \"in\", \"je\", \"is\", \"niet\", \"op\", \"aan\", \"met\", \"als\", \"voor\", \"zijn\", \"was\", \"heeft\", \"heb\", \"om\", \"bij\", \"of\", \"geen\", \"dan\", \"toch\", \"maar\", \"wel\", \"meer\", \"doen\", \"ook\", \"kan\", \"mijn\", \"zo\", \"dus\", \"zou\", \"kunnen\"}\n",
    "\n",
    "def clean_text(text):\n",
    "    text = text.lower()  # Lowercasing\n",
    "    text = re.sub(r'\\n', ' ', text)  # Nieuwe regels verwijderen\n",
    "    text = re.sub(r'\\b[a-z]\\)\\s+', ' ', text)  # Verwijder enumeraties zoals \"a) b) c)\" en voeg spatie toe\n",
    "    text = re.sub(r'\\b\\d+\\.\\b', '', text)  # Verwijder numerieke opsommingen zoals \"1. 2. 3.\"\n",
    "    text = re.sub(r'[^a-zA-Z0-9\\s]', '', text)  # Speciale tekens verwijderen\n",
    "    text = \" \".join([word for word in text.split() if word not in dutch_stopwords])  # Stopwoorden verwijderen\n",
    "    text = re.sub(r'\\s+', ' ', text).strip()  # Dubbele spaties verwijderen\n",
    "    return text\n",
    "\n",
    "# 5. Data opschonen\n",
    "df[\"clean_question\"] = df[\"question\"].apply(clean_text)"
   ]
  },
  {
   "cell_type": "code",
   "execution_count": 23,
   "id": "394b4a44",
   "metadata": {},
   "outputs": [
    {
     "name": "stdout",
     "output_type": "stream",
     "text": [
      "Original dataset size: 21112\n",
      "After Random Oversampling: 23897\n"
     ]
    }
   ],
   "source": [
    "from imblearn.over_sampling import SMOTE\n",
    "from imblearn.under_sampling import RandomUnderSampler\n",
    "from imblearn.pipeline import Pipeline\n",
    "\n",
    "# Convert text to TF-IDF vectors\n",
    "vectorizer = TfidfVectorizer(max_features=5000)\n",
    "X = vectorizer.fit_transform(df[\"clean_question\"])\n",
    "y = df[\"theme\"]\n",
    "\n",
    "# ✅ Train-test split\n",
    "X_train, X_test, y_train, y_test = train_test_split(X, y, test_size=0.2, random_state=42)\n",
    "\n",
    "from imblearn.over_sampling import RandomOverSampler\n",
    "\n",
    "# ✅ Get the class distribution\n",
    "theme_counts = y_train.value_counts()\n",
    "median_count = theme_counts.median()  # Threshold for balancing\n",
    "\n",
    "# ✅ Define oversampling strategy: Increase rare themes to the median count\n",
    "sampling_strategy = {theme: int(median_count) for theme in theme_counts.index if theme_counts[theme] < median_count}\n",
    "\n",
    "# ✅ Apply Random Oversampling\n",
    "ros = RandomOverSampler(sampling_strategy=sampling_strategy, random_state=42)\n",
    "X_train_resampled, y_train_resampled = ros.fit_resample(X_train, y_train)\n",
    "\n",
    "print(f\"Original dataset size: {X_train.shape[0]}\")\n",
    "print(f\"After Random Oversampling: {X_train_resampled.shape[0]}\")\n"
   ]
  },
  {
   "cell_type": "code",
   "execution_count": 24,
   "id": "f7c7b2e3-b6b9-4ebc-85a9-5ed73d65e256",
   "metadata": {},
   "outputs": [
    {
     "name": "stdout",
     "output_type": "stream",
     "text": [
      "GridSearchCV wordt uitgevoerd... Dit kan even duren 🚀\n",
      "Fitting 5 folds for each of 6 candidates, totalling 30 fits\n",
      "Beste parameters: {'C': 10, 'penalty': 'l1', 'solver': 'saga'}\n",
      "                                                                     precision    recall  f1-score   support\n",
      "\n",
      "                                                      Armoedebeleid       0.46      0.79      0.58        24\n",
      "                                                          Begroting       0.80      0.74      0.77        43\n",
      "                                         Brussel en de Vlaamse Rand       0.56      0.56      0.56        25\n",
      "                                                 Buitenlands beleid       0.62      0.70      0.66       151\n",
      "                                                            Cultuur       0.42      0.36      0.39       137\n",
      "                                                      Dierenwelzijn       0.70      0.75      0.72        72\n",
      "                                                           Economie       0.52      0.44      0.48       197\n",
      "                                                            Energie       0.52      0.38      0.44       244\n",
      "                                              Europese instellingen       0.44      0.29      0.35        14\n",
      "                                                          Financiën       0.72      0.56      0.63       107\n",
      "                                                     Gelijke kansen       0.65      0.42      0.51        93\n",
      "                                                         Gezondheid       0.39      0.27      0.32       155\n",
      "                                          Integratie en Inburgering       0.52      0.50      0.51        88\n",
      "                                          Internationaal ondernemen       0.03      0.15      0.05        13\n",
      "                                                        Jeugdbeleid       0.54      0.42      0.47        53\n",
      "                                             Justitie en Handhaving       0.58      0.37      0.45        68\n",
      "                                                           Landbouw       0.52      0.48      0.50       205\n",
      "                            Lokale overheden en Binnenlands bestuur       0.44      0.40      0.42       149\n",
      "                                                              Media       0.56      0.43      0.49        46\n",
      "                                              Mobiliteit en Verkeer       0.64      0.77      0.70      1287\n",
      "                                                   Natuur en Milieu       0.44      0.45      0.44       442\n",
      "                                                     Oekraïnecrisis       0.00      0.00      0.00         4\n",
      "                                               Onderwijs en Vorming       0.59      0.56      0.58       416\n",
      "                                                  Onroerend erfgoed       0.48      0.26      0.34        53\n",
      "                                                    Openbare werken       0.06      0.05      0.05        20\n",
      "                                               Ruimtelijke ordening       0.50      0.19      0.27        32\n",
      "                                                   Sociale economie       0.54      0.59      0.57        22\n",
      "                                                              Sport       0.38      0.34      0.36        35\n",
      "Staatshervorming en Verhoudingen binnen de Belgische federale staat       0.20      0.20      0.20         5\n",
      "                                                        Taalgebruik       0.12      1.00      0.22         1\n",
      "                                                           Toerisme       0.66      0.44      0.53        43\n",
      "                                                   Vlaamse Regering       0.93      0.90      0.91        71\n",
      "                                              Vlaamse administratie       0.45      0.57      0.51       199\n",
      "                                                   Welzijn en Gezin       0.57      0.52      0.55       279\n",
      "                                                               Werk       0.63      0.59      0.61       326\n",
      "                                            Wetenschap en Innovatie       0.02      0.07      0.03        15\n",
      "                                                              Wonen       0.45      0.40      0.43       144\n",
      "\n",
      "                                                           accuracy                           0.56      5278\n",
      "                                                          macro avg       0.48      0.46      0.45      5278\n",
      "                                                       weighted avg       0.56      0.56      0.55      5278\n",
      "\n",
      "      Metric     Score\n",
      "0   Accuracy  0.556840\n",
      "1  Precision  0.561086\n",
      "2     Recall  0.556840\n",
      "3         F1  0.553435\n"
     ]
    },
    {
     "name": "stderr",
     "output_type": "stream",
     "text": [
      "c:\\Users\\corne\\anaconda3\\envs\\thesis-env\\lib\\site-packages\\sklearn\\linear_model\\_sag.py:349: ConvergenceWarning: The max_iter was reached which means the coef_ did not converge\n",
      "  warnings.warn(\n"
     ]
    }
   ],
   "source": [
    "# ✅ Hyperparameter tuning met GridSearchCV\n",
    "# Conditional grid - alleen 'elasticnet' krijgt l1_ratio\n",
    "param_grid = {\n",
    "    'C': [0.1, 1, 10],  # Minder waarden testen\n",
    "    'penalty': ['l1', 'l2'],  # ElasticNet weglaten als dat niet veel verschil maakt\n",
    "    'solver': ['saga']\n",
    "}\n",
    "\n",
    "grid = GridSearchCV(\n",
    "    LogisticRegression(max_iter=500),  # Model\n",
    "    param_grid,  # Zoekruimte\n",
    "    cv=5,  # 5-fold cross-validation\n",
    "    scoring=\"f1_weighted\",  # Optimaliseer voor F1-score\n",
    "    n_jobs=-1,  # Parallel berekenen\n",
    "    verbose=2  # ✅ Geeft gedetailleerde logs per iteratie\n",
    ")\n",
    "\n",
    "print(\"GridSearchCV wordt uitgevoerd... Dit kan even duren 🚀\")\n",
    "grid.fit(X_train_resampled, y_train_resampled)  # GridSearch starten\n",
    "\n",
    "# ✅ Print beste parameters en scores\n",
    "print(f\"Beste parameters: {grid.best_params_}\")\n",
    "best_model = grid.best_estimator_\n",
    "\n",
    "# ✅ Evaluatie op de testset\n",
    "y_pred = best_model.predict(X_test)\n",
    "\n",
    "print(classification_report(y_test, y_pred))\n",
    "\n",
    "# ✅ Compute Accuracy, Precision, Recall, and F1-score (same format as BERT output)\n",
    "accuracy = accuracy_score(y_test, y_pred)\n",
    "precision, recall, f1, _ = precision_recall_fscore_support(y_test, y_pred, average=\"weighted\", zero_division=1)\n",
    "\n",
    "# ✅ Format Output as DataFrame\n",
    "baseline_results = pd.DataFrame({\n",
    "    \"Metric\": [\"Accuracy\", \"Precision\", \"Recall\", \"F1\"],\n",
    "    \"Score\": [accuracy, precision, recall, f1]\n",
    "})\n",
    "\n",
    "# ✅ Display results in a table format\n",
    "print(baseline_results)\n"
   ]
  }
 ],
 "metadata": {
  "kernelspec": {
   "display_name": "Python 3 (ipykernel)",
   "language": "python",
   "name": "python3"
  },
  "language_info": {
   "codemirror_mode": {
    "name": "ipython",
    "version": 3
   },
   "file_extension": ".py",
   "mimetype": "text/x-python",
   "name": "python",
   "nbconvert_exporter": "python",
   "pygments_lexer": "ipython3",
   "version": "3.9.21"
  }
 },
 "nbformat": 4,
 "nbformat_minor": 5
}
